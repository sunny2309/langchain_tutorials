{
 "cells": [
  {
   "cell_type": "markdown",
   "id": "62a3ae3c",
   "metadata": {},
   "source": [
    "# LangGraph: Guide to Build Tool Calling Agent\n",
    "\n",
    "<img src=\"react.png\" width=400/>\n",
    "\n",
    "## Table of Contents\n",
    "\n",
    "1. **Load LLM (Groq - LlaMa-3.1 70B)**\n",
    "2. **Define Tools**\n",
    "3. **Bind Tools with LLM**\n",
    "4. **Define ReAct | Tool Calling Agent**\n",
    "5. **Query Agent**"
   ]
  },
  {
   "cell_type": "code",
   "execution_count": 2,
   "id": "7530b99b",
   "metadata": {},
   "outputs": [],
   "source": [
    "from dotenv import find_dotenv, load_dotenv\n",
    "import os\n",
    "\n",
    "load_dotenv(find_dotenv())\n",
    "\n",
    "groq_api_key = os.environ[\"GROQ_API_KEY\"]"
   ]
  },
  {
   "cell_type": "markdown",
   "id": "fb764224",
   "metadata": {},
   "source": [
    "## 1. Load LLM\n",
    "\n",
    "* Login to **https://console.groq.com** and create API Key.\n",
    "\n",
    "### Groq Models\n",
    "\n",
    "<img src=\"GroqModels.jpg\"/>\n",
    "\n",
    "### LangChain Groq Module\n",
    "\n",
    "* **pip install langchain-groq**"
   ]
  },
  {
   "cell_type": "code",
   "execution_count": 6,
   "id": "4d39e0ff",
   "metadata": {},
   "outputs": [
    {
     "data": {
      "text/plain": [
       "ChatGroq(client=<groq.resources.chat.completions.Completions object at 0x7f5eb52e02e0>, async_client=<groq.resources.chat.completions.AsyncCompletions object at 0x7f5eb52e0e50>, model_name='llama-3.1-70b-versatile', groq_api_key=SecretStr('**********'))"
      ]
     },
     "execution_count": 6,
     "metadata": {},
     "output_type": "execute_result"
    }
   ],
   "source": [
    "from langchain_groq import ChatGroq\n",
    "\n",
    "llama3 = ChatGroq(api_key=groq_api_key, model=\"llama-3.1-70b-versatile\") # llama-3.1-405b-reasoning\n",
    "\n",
    "llama3"
   ]
  },
  {
   "cell_type": "code",
   "execution_count": 10,
   "id": "57036d4a",
   "metadata": {},
   "outputs": [
    {
     "data": {
      "text/plain": [
       "AIMessage(content=\"I'm doing well, thanks for asking! I'm a large language model, so I don't have emotions like humans do, but I'm always happy to chat and help with any questions or topics you'd like to discuss. How about you? How's your day going so far?\", response_metadata={'token_usage': {'completion_tokens': 59, 'prompt_tokens': 22, 'total_tokens': 81, 'completion_time': 0.236, 'prompt_time': 0.009789462, 'queue_time': None, 'total_time': 0.245789462}, 'model_name': 'llama-3.1-70b-versatile', 'system_fingerprint': 'fp_9260b4bb2e', 'finish_reason': 'stop', 'logprobs': None}, id='run-fe445463-cc1f-47c7-9ad2-c380e0aa9188-0', usage_metadata={'input_tokens': 22, 'output_tokens': 59, 'total_tokens': 81})"
      ]
     },
     "execution_count": 10,
     "metadata": {},
     "output_type": "execute_result"
    }
   ],
   "source": [
    "llama3.invoke(\"Hello, How are you Llama 3.1?\")"
   ]
  },
  {
   "cell_type": "markdown",
   "id": "5ab95f1b",
   "metadata": {},
   "source": [
    "## 2. Define Tools"
   ]
  },
  {
   "cell_type": "code",
   "execution_count": 25,
   "id": "1f1a87ba",
   "metadata": {},
   "outputs": [],
   "source": [
    "from langchain_core.tools import tool, StructuredTool\n",
    "import yfinance as yf\n",
    "\n",
    "@tool\n",
    "def company_address(ticker: str)-> str:\n",
    "    \"\"\"\n",
    "    Returns company address for input ticker.    \n",
    "    e.g. company_address: AAPL\n",
    "    Returns company address for ticker AAPL which is stock ticker for Apple Inc.\n",
    "    \"\"\"\n",
    "    ticker_obj = yf.Ticker(ticker)\n",
    "    info = ticker_obj.get_info()\n",
    "    \n",
    "    return \" \".join([info[key] for key in [\"address1\", \"city\", \"state\", \"zip\", \"country\"]])\n",
    "\n",
    "@tool\n",
    "def fulltime_employees(ticker: str)-> int:\n",
    "    \"\"\"\n",
    "    Returns fulltime employees count for input ticker.\n",
    "    e.g. fulltime_employees: MSFT\n",
    "    Returns fulltime employees count for ticker MSFT which is stock ticker for Microsoft.\n",
    "    \"\"\"\n",
    "    ticker_obj = yf.Ticker(ticker)\n",
    "    info = ticker_obj.get_info()\n",
    "    \n",
    "    return info[\"fullTimeEmployees\"]\n",
    "\n",
    "@tool\n",
    "def last_close_price(ticker: str)-> float:\n",
    "    \"\"\"\n",
    "    Returns last close price for input ticker.\n",
    "    e.g. last_close_price: MSFT\n",
    "    Returns latest close price for ticker MSFT which is stock ticker for Microsoft.\n",
    "    \"\"\"\n",
    "    ticker_obj = yf.Ticker(ticker)\n",
    "    info = ticker_obj.get_info()\n",
    "    \n",
    "    return info[\"previousClose\"]\n",
    "\n",
    "@tool\n",
    "def EBITDA(ticker: str)-> float:\n",
    "    \"\"\"\n",
    "    Returns EBITDA for input ticker.\n",
    "    e.g. EBITDA: AAPL\n",
    "    Returns EBITDA for ticker AAPL which is stock ticker for Apple.\n",
    "    \"\"\"\n",
    "    ticker_obj = yf.Ticker(ticker)\n",
    "    info = ticker_obj.get_info()\n",
    "    \n",
    "    return info[\"ebitda\"]\n",
    "\n",
    "@tool\n",
    "def total_debt(ticker: str)-> float:\n",
    "    \"\"\"\n",
    "    Returns total debt for input ticker.\n",
    "    e.g. total_debt: AAPL\n",
    "    Returns total debt for ticker AAPL which is stock ticker for Apple.\n",
    "    \"\"\"\n",
    "    ticker_obj = yf.Ticker(ticker)\n",
    "    info = ticker_obj.get_info()\n",
    "    \n",
    "    return info[\"totalDebt\"]\n",
    "\n",
    "@tool\n",
    "def total_revenue(ticker: str)-> float:\n",
    "    \"\"\"\n",
    "    Returns total revenue for input ticker.\n",
    "    e.g. total_revenue: MSFT\n",
    "    Returns total revenue for ticker MSFT which is stock ticker for Microsoft.\n",
    "    \"\"\"\n",
    "    ticker_obj = yf.Ticker(ticker)\n",
    "    info = ticker_obj.get_info()\n",
    "    \n",
    "    return info[\"totalRevenue\"]\n",
    "\n",
    "@tool\n",
    "def debt_to_equity_ratio(ticker: str)-> float:\n",
    "    \"\"\"\n",
    "    Returns debt to equity ratio for input ticker.\n",
    "    e.g. debt_to_equity_ratio: AAPL\n",
    "    Returns debt to equity ratio for ticker AAPL which is stock ticker for Apple.\n",
    "    \"\"\"\n",
    "    ticker_obj = yf.Ticker(ticker)\n",
    "    info = ticker_obj.get_info()\n",
    "    \n",
    "    return info[\"debtToEquity\"]\n",
    "\n",
    "tools = [\n",
    "    company_address,\n",
    "    fulltime_employees,\n",
    "    last_close_price,\n",
    "    EBITDA,\n",
    "    total_debt,\n",
    "    total_revenue,\n",
    "    debt_to_equity_ratio\n",
    "]"
   ]
  },
  {
   "cell_type": "code",
   "execution_count": 26,
   "id": "8f319b13",
   "metadata": {},
   "outputs": [
    {
     "data": {
      "text/plain": [
       "StructuredTool(name='company_address', description='Returns company address for input ticker.    \\ne.g. company_address: AAPL\\nReturns company address for ticker AAPL which is stock ticker for Apple Inc.', args_schema=<class 'pydantic.v1.main.company_addressSchema'>, func=<function company_address at 0x7f5eb20c9900>)"
      ]
     },
     "execution_count": 26,
     "metadata": {},
     "output_type": "execute_result"
    }
   ],
   "source": [
    "company_address"
   ]
  },
  {
   "cell_type": "markdown",
   "id": "e6d83c99",
   "metadata": {},
   "source": [
    "## 3. Bind Tools with LLM"
   ]
  },
  {
   "cell_type": "code",
   "execution_count": 13,
   "id": "1eaa5728",
   "metadata": {},
   "outputs": [],
   "source": [
    "llama3_with_tools = llama3.bind_tools(tools, tool_choice=\"auto\") \n",
    "# \"auto\" to automatically determine which function to call with the option to not call any function\n",
    "# \"any\" to enforce that some function is called"
   ]
  },
  {
   "cell_type": "code",
   "execution_count": 16,
   "id": "f428f319",
   "metadata": {
    "scrolled": true
   },
   "outputs": [
    {
     "name": "stdout",
     "output_type": "stream",
     "text": [
      "Not much! Just hanging out. What's up with you?\n",
      "[]\n"
     ]
    }
   ],
   "source": [
    "ai_msg = llama3_with_tools.invoke(\"Whatzzzz up?\")\n",
    "\n",
    "print(ai_msg.content)\n",
    "print(ai_msg.tool_calls)"
   ]
  },
  {
   "cell_type": "code",
   "execution_count": 77,
   "id": "7e4e67c9",
   "metadata": {
    "scrolled": true
   },
   "outputs": [
    {
     "name": "stdout",
     "output_type": "stream",
     "text": [
      "\n",
      "[{'name': 'EBITDA', 'args': {'ticker': 'MSFT'}, 'id': 'call_3jzw', 'type': 'tool_call'}]\n"
     ]
    }
   ],
   "source": [
    "ai_msg = llama3_with_tools.invoke(\"Whats EBITDA of Microsoft?\")\n",
    "\n",
    "print(ai_msg.content)\n",
    "print(ai_msg.tool_calls)"
   ]
  },
  {
   "cell_type": "code",
   "execution_count": 80,
   "id": "42dccbc2",
   "metadata": {
    "scrolled": true
   },
   "outputs": [
    {
     "data": {
      "text/plain": [
       "125981999104"
      ]
     },
     "execution_count": 80,
     "metadata": {},
     "output_type": "execute_result"
    }
   ],
   "source": [
    "EBITDA.invoke(ai_msg.tool_calls[0][\"args\"])"
   ]
  },
  {
   "cell_type": "markdown",
   "id": "419e6c14",
   "metadata": {},
   "source": [
    "## 4. Define ReAct / Tool Calling Agent\n",
    "\n",
    "<img src=\"LangGraph_Components.png\" width=600 />\n",
    "<br>\n",
    "<img src=\"LangGraph_ReAct_Agent.png\" width=600 />"
   ]
  },
  {
   "cell_type": "code",
   "execution_count": 63,
   "id": "1dc0c1df",
   "metadata": {},
   "outputs": [],
   "source": [
    "from langgraph.graph import StateGraph, END\n",
    "from typing import TypedDict, Annotated\n",
    "import operator\n",
    "from langchain_core.messages import AnyMessage, SystemMessage, HumanMessage, ToolMessage\n",
    "\n",
    "class AgentState(TypedDict): ## Agent's current state, it can be history of messsages and other attributes you want to maintain\n",
    "    messages: Annotated[list[AnyMessage], operator.add]   ## {'messages': []}\n",
    "        \n",
    "class ReActAgent:\n",
    "    \n",
    "    def __init__(self, model, tools, system=\"\"):\n",
    "        self.system = system\n",
    "        self.tools = {t.name: t for t in tools}\n",
    "        self.model = model.bind_tools(tools, tool_choice=\"auto\")\n",
    "        \n",
    "        graph = StateGraph(AgentState)  ## Current Agent State will be available at each node of Graph.\n",
    "        graph.add_node(\"llama3\", self.call_llm)\n",
    "        graph.add_node(\"action\", self.take_action)\n",
    "        graph.add_conditional_edges(\n",
    "            \"llama3\",\n",
    "            self.exists_action,\n",
    "            {True: \"action\", False: END}\n",
    "        )\n",
    "        graph.add_edge(\"action\", \"llama3\")\n",
    "        graph.set_entry_point(\"llama3\")\n",
    "        self.graph = graph.compile()\n",
    "        \n",
    "    def exists_action(self, state: AgentState):\n",
    "        result = state['messages'][-1]\n",
    "        return len(result.tool_calls) > 0\n",
    "\n",
    "    def call_llm(self, state: AgentState):\n",
    "        messages = state['messages']\n",
    "        if self.system:\n",
    "            messages = [SystemMessage(content=self.system)] + messages\n",
    "        message = self.model.invoke(messages)\n",
    "        return {'messages': [message]} ## AIMessage\n",
    "\n",
    "    def take_action(self, state: AgentState):\n",
    "        tool_calls = state['messages'][-1].tool_calls\n",
    "        results = []\n",
    "        for t in tool_calls:\n",
    "            print(f\"Calling Tool: {t}\")\n",
    "            if not t['name'] in self.tools:  # check for bad tool name from LLM\n",
    "                print(f\"\\n Tool: {t} does not exist.\")\n",
    "                result = \"Incorrect Tool Name, Please Retry and Select tool from List of Available tools.\"  # instruct LLM to retry if bad\n",
    "            else:\n",
    "                result = self.tools[t['name']].invoke(t['args'])\n",
    "            results.append(ToolMessage(tool_call_id=t['id'], name=t['name'], content=str(result)))\n",
    "        print(\"Tools Execution Complete. Back to the model!\")\n",
    "        return {'messages': results} ## [ToolMessage, ToolMessage, ...]"
   ]
  },
  {
   "cell_type": "code",
   "execution_count": 64,
   "id": "7f30933c",
   "metadata": {},
   "outputs": [],
   "source": [
    "prompt = \"\"\"\n",
    "You are a smart AI finance assistant. Use the list of available tools to answer questions if needed.\n",
    "You are allowed to make multiple calls (either together or in sequence).\n",
    "If you need to look up some information before asking a follow up question, you are allowed to do that!\n",
    "\"\"\"\n",
    "\n",
    "agent = ReActAgent(llama3, tools, system=prompt)"
   ]
  },
  {
   "cell_type": "markdown",
   "id": "e290a70e",
   "metadata": {},
   "source": [
    "* **pip install pygraphviz**"
   ]
  },
  {
   "cell_type": "code",
   "execution_count": 65,
   "id": "f32728f1",
   "metadata": {},
   "outputs": [
    {
     "data": {
      "image/png": "[encoded data removed]",
      "text/plain": [
       "<IPython.core.display.Image object>"
      ]
     },
     "execution_count": 65,
     "metadata": {},
     "output_type": "execute_result"
    }
   ],
   "source": [
    "from IPython.display import Image\n",
    "\n",
    "Image(agent.graph.get_graph().draw_png())"
   ]
  },
  {
   "cell_type": "markdown",
   "id": "0667328f",
   "metadata": {},
   "source": [
    "## 5. Use Agent"
   ]
  },
  {
   "cell_type": "code",
   "execution_count": 66,
   "id": "7ced1772",
   "metadata": {},
   "outputs": [],
   "source": [
    "messages = [HumanMessage(content=\"Wazzzzzz up LlaMa 3.1?\")]\n",
    "\n",
    "result = agent.graph.invoke({\"messages\": messages})"
   ]
  },
  {
   "cell_type": "code",
   "execution_count": 67,
   "id": "5449f382",
   "metadata": {},
   "outputs": [
    {
     "data": {
      "text/plain": [
       "\"Not much, just here and ready to help with any questions or tasks you may have. What's on your mind?\""
      ]
     },
     "execution_count": 67,
     "metadata": {},
     "output_type": "execute_result"
    }
   ],
   "source": [
    "result['messages'][-1].content"
   ]
  },
  {
   "cell_type": "code",
   "execution_count": 68,
   "id": "ea75c5ff",
   "metadata": {},
   "outputs": [
    {
     "name": "stdout",
     "output_type": "stream",
     "text": [
      "Calling Tool: {'name': 'EBITDA', 'args': {'ticker': 'NVDA'}, 'id': 'call_s8q5', 'type': 'tool_call'}\n",
      "Tools Execution Complete. Back to the model!\n"
     ]
    }
   ],
   "source": [
    "messages = [HumanMessage(content=\"What is EBITDA of nvidia?\")]\n",
    "\n",
    "result = agent.graph.invoke({\"messages\": messages})"
   ]
  },
  {
   "cell_type": "code",
   "execution_count": 69,
   "id": "642d8290",
   "metadata": {},
   "outputs": [
    {
     "data": {
      "text/plain": [
       "{'messages': [HumanMessage(content='What is EBITDA of nvidia?'),\n",
       "  AIMessage(content='', additional_kwargs={'tool_calls': [{'id': 'call_s8q5', 'function': {'arguments': '{\"ticker\":\"NVDA\"}', 'name': 'EBITDA'}, 'type': 'function'}]}, response_metadata={'token_usage': {'completion_tokens': 68, 'prompt_tokens': 1733, 'total_tokens': 1801, 'completion_time': 0.272, 'prompt_time': 0.445306064, 'queue_time': None, 'total_time': 0.717306064}, 'model_name': 'llama-3.1-70b-versatile', 'system_fingerprint': 'fp_b3ae7e594e', 'finish_reason': 'tool_calls', 'logprobs': None}, id='run-834fe8f3-7817-4126-9561-e6342f9dbe01-0', tool_calls=[{'name': 'EBITDA', 'args': {'ticker': 'NVDA'}, 'id': 'call_s8q5', 'type': 'tool_call'}], usage_metadata={'input_tokens': 1733, 'output_tokens': 68, 'total_tokens': 1801}),\n",
       "  ToolMessage(content='49274998784', name='EBITDA', tool_call_id='call_s8q5'),\n",
       "  AIMessage(content='The EBITDA of NVIDIA is $49,274,998,784.', response_metadata={'token_usage': {'completion_tokens': 17, 'prompt_tokens': 1804, 'total_tokens': 1821, 'completion_time': 0.068, 'prompt_time': 0.404926881, 'queue_time': None, 'total_time': 0.472926881}, 'model_name': 'llama-3.1-70b-versatile', 'system_fingerprint': 'fp_b3ae7e594e', 'finish_reason': 'stop', 'logprobs': None}, id='run-5b86d89c-2a88-4391-85ce-bf2be72d6d32-0', usage_metadata={'input_tokens': 1804, 'output_tokens': 17, 'total_tokens': 1821})]}"
      ]
     },
     "execution_count": 69,
     "metadata": {},
     "output_type": "execute_result"
    }
   ],
   "source": [
    "result"
   ]
  },
  {
   "cell_type": "code",
   "execution_count": 70,
   "id": "49158920",
   "metadata": {
    "scrolled": true
   },
   "outputs": [
    {
     "data": {
      "text/plain": [
       "'The EBITDA of NVIDIA is $49,274,998,784.'"
      ]
     },
     "execution_count": 70,
     "metadata": {},
     "output_type": "execute_result"
    }
   ],
   "source": [
    "result['messages'][-1].content"
   ]
  },
  {
   "cell_type": "code",
   "execution_count": 71,
   "id": "603f1e26",
   "metadata": {},
   "outputs": [
    {
     "name": "stdout",
     "output_type": "stream",
     "text": [
      "Calling Tool: {'name': 'EBITDA', 'args': {'ticker': 'GOOG'}, 'id': 'call_djzn', 'type': 'tool_call'}\n",
      "Calling Tool: {'name': 'debt_to_equity_ratio', 'args': {'ticker': 'GOOG'}, 'id': 'call_d9g0', 'type': 'tool_call'}\n",
      "Tools Execution Complete. Back to the model!\n"
     ]
    }
   ],
   "source": [
    "messages = [HumanMessage(content=\"What is EBITDA and debt-to-equity ratio of Google?\")]\n",
    "\n",
    "result = agent.graph.invoke({\"messages\": messages})"
   ]
  },
  {
   "cell_type": "code",
   "execution_count": 72,
   "id": "3dab32e0",
   "metadata": {},
   "outputs": [
    {
     "data": {
      "text/plain": [
       "'Based on the tool call results, the EBITDA of Google is $115,478,003,712 and the debt-to-equity ratio is 8.295.'"
      ]
     },
     "execution_count": 72,
     "metadata": {},
     "output_type": "execute_result"
    }
   ],
   "source": [
    "result['messages'][-1].content"
   ]
  },
  {
   "cell_type": "code",
   "execution_count": 75,
   "id": "9a67256a",
   "metadata": {},
   "outputs": [
    {
     "name": "stdout",
     "output_type": "stream",
     "text": [
      "Calling Tool: {'name': 'total_revenue', 'args': {'ticker': 'AAPL'}, 'id': 'call_6q5t', 'type': 'tool_call'}\n",
      "Calling Tool: {'name': 'total_revenue', 'args': {'ticker': 'NVDA'}, 'id': 'call_dpp3', 'type': 'tool_call'}\n",
      "Tools Execution Complete. Back to the model!\n"
     ]
    }
   ],
   "source": [
    "messages = [HumanMessage(content=\"Compare total revenue of Apple and Nvidia.\")]\n",
    "\n",
    "result = agent.graph.invoke({\"messages\": messages})"
   ]
  },
  {
   "cell_type": "code",
   "execution_count": 76,
   "id": "bb281fa3",
   "metadata": {},
   "outputs": [
    {
     "data": {
      "text/plain": [
       "\"Based on the results, Apple's total revenue is $381,623,009,280, while Nvidia's total revenue is $79,773,999,104. Apple's total revenue is approximately 4.8 times larger than Nvidia's.\""
      ]
     },
     "execution_count": 76,
     "metadata": {},
     "output_type": "execute_result"
    }
   ],
   "source": [
    "result['messages'][-1].content"
   ]
  },
  {
   "cell_type": "markdown",
   "id": "5888e3e9",
   "metadata": {},
   "source": [
    "## Summary\n",
    "\n",
    "In this video, I explained how to create simple **tool calling** agent using **LangGraph**. Please feel free to let me know your views in the comments section."
   ]
  },
  {
   "cell_type": "code",
   "execution_count": null,
   "id": "26b03080",
   "metadata": {},
   "outputs": [],
   "source": []
  }
 ],
 "metadata": {
  "kernelspec": {
   "display_name": "Python 3 (ipykernel)",
   "language": "python",
   "name": "python3"
  },
  "language_info": {
   "codemirror_mode": {
    "name": "ipython",
    "version": 3
   },
   "file_extension": ".py",
   "mimetype": "text/x-python",
   "name": "python",
   "nbconvert_exporter": "python",
   "pygments_lexer": "ipython3",
   "version": "3.10.9"
  }
 },
 "nbformat": 4,
 "nbformat_minor": 5
}
