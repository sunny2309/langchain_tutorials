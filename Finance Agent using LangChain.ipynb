{
 "cells": [
  {
   "cell_type": "markdown",
   "id": "6bc5b211",
   "metadata": {},
   "source": [
    "# Finance Agent using LangChain (LlaMa-3 | Groq API)\n",
    "\n",
    "## Table of Contents\n",
    "\n",
    "1. **Load LLM (LlaMa-3)**\n",
    "2. **Define Finance Tools**\n",
    "3. **Create Finance Agent (LLM + Tools)**\n",
    "\n",
    "## Finance Agent Capabilities\n",
    "\n",
    "* **Stock Company Basic Information**\n",
    "    * Address, Industry, Sector, business summary, website, etc.\n",
    "    * Top Company Officers\n",
    "* **Stock Financials**\n",
    "    * Market Cap, current price, ebitda, total debt, total revenue, debt-to-equity, P/E ratio, operating margins, ebitda margins, operating cashflow, free cashflow, etc.\n",
    "* **Stock Dividend & Earnings Dates**\n",
    "* **Information about Mutual Fund Holders**\n",
    "* **Information about Institutional Holders**\n",
    "* **Stock Splits History**\n",
    "* **Stock Ratings Upgrades & Downgrades by various Companies**\n",
    "* **News Articles about Stock**"
   ]
  },
  {
   "cell_type": "code",
   "execution_count": 1,
   "id": "4d3a9aa8",
   "metadata": {
    "scrolled": true
   },
   "outputs": [
    {
     "data": {
      "text/plain": [
       "True"
      ]
     },
     "execution_count": 1,
     "metadata": {},
     "output_type": "execute_result"
    }
   ],
   "source": [
    "import dotenv\n",
    "\n",
    "dotenv.load_dotenv(dotenv.find_dotenv())"
   ]
  },
  {
   "cell_type": "code",
   "execution_count": 2,
   "id": "c6b94d4e",
   "metadata": {},
   "outputs": [],
   "source": [
    "import os\n",
    "\n",
    "groq_api_key = os.environ[\"GROQ_API_KEY\"]"
   ]
  },
  {
   "cell_type": "code",
   "execution_count": 3,
   "id": "d372bdd7",
   "metadata": {},
   "outputs": [
    {
     "data": {
      "text/plain": [
       "'0.2.40'"
      ]
     },
     "execution_count": 3,
     "metadata": {},
     "output_type": "execute_result"
    }
   ],
   "source": [
    "import yfinance as yf\n",
    "\n",
    "yf.__version__"
   ]
  },
  {
   "cell_type": "markdown",
   "id": "523b4900",
   "metadata": {},
   "source": [
    "## 1. Load LLM\n",
    "\n",
    "* Login to **https://console.groq.com** and create API Key.\n",
    "\n",
    "### Groq Models\n",
    "\n",
    "ID|\tREQUESTS PER MINUTE|\tREQUESTS PER DAY|\tTOKENS PER MINUTE\n",
    "-|-|-|-\n",
    "llama3-70b-8192\t|30\t|14,400\t|6,000\n",
    "llama3-8b-8192\t|30\t|14,400\t|30,000\n",
    "gemma-7b-it\t|30\t|14,400\t|15,000\n",
    "mixtral-8x7b-32768\t|30\t|14,400\t|5,000\n",
    "\n",
    "\n",
    "* **pip install langchain-groq**"
   ]
  },
  {
   "cell_type": "code",
   "execution_count": 5,
   "id": "500ab187",
   "metadata": {},
   "outputs": [
    {
     "data": {
      "text/plain": [
       "ChatGroq(client=<groq.resources.chat.completions.Completions object at 0x7f5a6b94d420>, async_client=<groq.resources.chat.completions.AsyncCompletions object at 0x7f5a6b94c760>, model_name='llama3-8b-8192', groq_api_key=SecretStr('**********'))"
      ]
     },
     "execution_count": 5,
     "metadata": {},
     "output_type": "execute_result"
    }
   ],
   "source": [
    "from langchain_groq import ChatGroq\n",
    "\n",
    "llama3 = ChatGroq(api_key=groq_api_key, model=\"llama3-8b-8192\")\n",
    "\n",
    "llama3"
   ]
  },
  {
   "cell_type": "code",
   "execution_count": 6,
   "id": "f07b791b",
   "metadata": {},
   "outputs": [
    {
     "data": {
      "text/plain": [
       "AIMessage(content=\"Hello! I'm just a language model, so I don't have feelings or emotions like humans do, but I'm functioning properly and ready to help with any questions or tasks you may have! How about you? How's your day going so far?\", response_metadata={'token_usage': {'completion_tokens': 52, 'prompt_tokens': 16, 'total_tokens': 68, 'completion_time': 0.040477154, 'prompt_time': 0.004461602, 'queue_time': None, 'total_time': 0.044938756}, 'model_name': 'llama3-8b-8192', 'system_fingerprint': 'fp_873a560973', 'finish_reason': 'stop', 'logprobs': None}, id='run-e9e980fa-513f-49dc-bfc4-d661bff91293-0', usage_metadata={'input_tokens': 16, 'output_tokens': 52, 'total_tokens': 68})"
      ]
     },
     "execution_count": 6,
     "metadata": {},
     "output_type": "execute_result"
    }
   ],
   "source": [
    "llama3.invoke(\"Hello, How are you?\")"
   ]
  },
  {
   "cell_type": "markdown",
   "id": "d28fb994",
   "metadata": {},
   "source": [
    "## 2. Define Tools"
   ]
  },
  {
   "cell_type": "code",
   "execution_count": 17,
   "id": "ff145094",
   "metadata": {},
   "outputs": [],
   "source": [
    "from langchain_core.tools import tool, StructuredTool\n",
    "from datetime import date\n",
    "\n",
    "@tool\n",
    "def company_information(ticker: str) -> dict:\n",
    "    \"\"\"Use this tool to retrieve company information like address, industry, sector, company officers, business summary, website,\n",
    "       marketCap, current price, ebitda, total debt, total revenue, debt-to-equity, etc.\"\"\"\n",
    "    \n",
    "    ticker_obj = yf.Ticker(ticker)\n",
    "    ticker_info = ticker_obj.get_info()\n",
    "\n",
    "    return ticker_info\n",
    "\n",
    "@tool\n",
    "def last_dividend_and_earnings_date(ticker: str) -> dict:\n",
    "    \"\"\"\n",
    "    Use this tool to retrieve company's last dividend date and earnings release dates.\n",
    "    It does not provide information about historical dividend yields.\n",
    "    \"\"\"\n",
    "    ticker_obj = yf.Ticker(ticker)\n",
    "    \n",
    "    return ticker_obj.get_calendar()\n",
    "\n",
    "@tool\n",
    "def summary_of_mutual_fund_holders(ticker: str) -> dict:\n",
    "    \"\"\"\n",
    "    Use this tool to retrieve company's top mutual fund holders. \n",
    "    It also returns their percentage of share, stock count and value of holdings.\n",
    "    \"\"\"\n",
    "    ticker_obj = yf.Ticker(ticker)\n",
    "    mf_holders = ticker_obj.get_mutualfund_holders()\n",
    "    \n",
    "    return mf_holders.to_dict(orient=\"records\")\n",
    "\n",
    "@tool\n",
    "def summary_of_institutional_holders(ticker: str) -> dict:\n",
    "    \"\"\"\n",
    "    Use this tool to retrieve company's top institutional holders. \n",
    "    It also returns their percentage of share, stock count and value of holdings.\n",
    "    \"\"\"\n",
    "    ticker_obj = yf.Ticker(ticker)   \n",
    "    inst_holders = ticker_obj.get_institutional_holders()\n",
    "    \n",
    "    return inst_holders.to_dict(orient=\"records\")\n",
    "\n",
    "@tool\n",
    "def stock_grade_updrages_downgrades(ticker: str) -> dict:\n",
    "    \"\"\"\n",
    "    Use this to retrieve grade ratings upgrades and downgrades details of particular stock.\n",
    "    It'll provide name of firms along with 'To Grade' and 'From Grade' details. Grade date is also provided.\n",
    "    \"\"\"\n",
    "    ticker_obj = yf.Ticker(ticker)\n",
    "    \n",
    "    curr_year = date.today().year\n",
    "    \n",
    "    upgrades_downgrades = ticker_obj.get_upgrades_downgrades()\n",
    "    upgrades_downgrades = upgrades_downgrades.loc[upgrades_downgrades.index > f\"{curr_year}-01-01\"]\n",
    "    upgrades_downgrades = upgrades_downgrades[upgrades_downgrades[\"Action\"].isin([\"up\", \"down\"])]\n",
    "    \n",
    "    return upgrades_downgrades.to_dict(orient=\"records\")\n",
    "\n",
    "@tool\n",
    "def stock_splits_history(ticker: str) -> dict:\n",
    "    \"\"\"\n",
    "    Use this tool to retrieve company's historical stock splits data.\n",
    "    \"\"\"\n",
    "    ticker_obj = yf.Ticker(ticker)\n",
    "    hist_splits = ticker_obj.get_splits()\n",
    "    \n",
    "    return hist_splits.to_dict()\n",
    "\n",
    "@tool\n",
    "def stock_news(ticker: str) -> dict:\n",
    "    \"\"\"\n",
    "    Use this to retrieve latest news articles discussing particular stock ticker.\n",
    "    \"\"\"\n",
    "    ticker_obj = yf.Ticker(ticker)\n",
    "    \n",
    "    return ticker_obj.get_news()\n",
    "\n",
    "\n",
    "#stock_news_tool = StructuredTool.from_function(stock_news)"
   ]
  },
  {
   "cell_type": "markdown",
   "id": "d9ce917a",
   "metadata": {},
   "source": [
    "## 3.  Define Agent (LLM + Tools)"
   ]
  },
  {
   "cell_type": "code",
   "execution_count": 18,
   "id": "6537182c",
   "metadata": {},
   "outputs": [],
   "source": [
    "from langchain.agents import AgentExecutor, create_tool_calling_agent\n",
    "from langchain_groq import ChatGroq\n",
    "from langchain.prompts import ChatPromptTemplate\n",
    "from langchain_core.prompts import MessagesPlaceholder\n",
    "\n",
    "tools = [\n",
    "         company_information,\n",
    "         last_dividend_and_earnings_date,\n",
    "         stock_splits_history,\n",
    "         summary_of_mutual_fund_holders,\n",
    "         summary_of_institutional_holders, \n",
    "         stock_grade_updrages_downgrades,\n",
    "         stock_news\n",
    "]\n",
    "\n",
    "prompt = ChatPromptTemplate.from_messages(\n",
    "    [\n",
    "        (\n",
    "            \"system\",\n",
    "            \"You are a helpful assistant. Try to answer user query using available tools.\",\n",
    "        ),\n",
    "        MessagesPlaceholder(variable_name=\"messages\"),\n",
    "        MessagesPlaceholder(variable_name=\"agent_scratchpad\"),\n",
    "    ]\n",
    ")\n",
    "\n",
    "llama3 = ChatGroq(api_key=groq_api_key, model=\"llama3-8b-8192\", temperature=0)\n",
    "\n",
    "finance_agent = create_tool_calling_agent(llama3, tools, prompt)\n",
    "\n",
    "finance_agent_executor = AgentExecutor(agent=finance_agent, tools=tools, verbose=True)"
   ]
  },
  {
   "cell_type": "code",
   "execution_count": 19,
   "id": "f61aff0c",
   "metadata": {
    "scrolled": true
   },
   "outputs": [
    {
     "name": "stdout",
     "output_type": "stream",
     "text": [
      "\n",
      "\n",
      "\u001b[1m> Entering new AgentExecutor chain...\u001b[0m\n",
      "\u001b[32;1m\u001b[1;3m\n",
      "Invoking: `company_information` with `{'ticker': 'MSFT'}`\n",
      "\n",
      "\n",
      "\u001b[0m\u001b[36;1m\u001b[1;3m{'address1': 'One Microsoft Way', 'city': 'Redmond', 'state': 'WA', 'zip': '98052-6399', 'country': 'United States', 'phone': '425 882 8080', 'website': 'https://www.microsoft.com', 'industry': 'Software - Infrastructure', 'industryKey': 'software-infrastructure', 'industryDisp': 'Software - Infrastructure', 'sector': 'Technology', 'sectorKey': 'technology', 'sectorDisp': 'Technology', 'longBusinessSummary': 'Microsoft Corporation develops and supports software, services, devices and solutions worldwide. The Productivity and Business Processes segment offers office, exchange, SharePoint, Microsoft Teams, office 365 Security and Compliance, Microsoft viva, and Microsoft 365 copilot; and office consumer services, such as Microsoft 365 consumer subscriptions, Office licensed on-premises, and other office services. This segment also provides LinkedIn; and dynamics business solutions, including Dynamics 365, a set of intelligent, cloud-based applications across ERP, CRM, power apps, and power automate; and on-premises ERP and CRM applications. The Intelligent Cloud segment offers server products and cloud services, such as azure and other cloud services; SQL and windows server, visual studio, system center, and related client access licenses, as well as nuance and GitHub; and enterprise services including enterprise support services, industry solutions, and nuance professional services. The More Personal Computing segment offers Windows, including windows OEM licensing and other non-volume licensing of the Windows operating system; Windows commercial comprising volume licensing of the Windows operating system, windows cloud services, and other Windows commercial offerings; patent licensing; and windows Internet of Things; and devices, such as surface, HoloLens, and PC accessories. Additionally, this segment provides gaming, which includes Xbox hardware and content, and first- and third-party content; Xbox game pass and other subscriptions, cloud gaming, advertising, third-party disc royalties, and other cloud services; and search and news advertising, which includes Bing, Microsoft News and Edge, and third-party affiliates. The company sells its products through OEMs, distributors, and resellers; and directly through digital marketplaces, online, and retail stores. The company was founded in 1975 and is headquartered in Redmond, Washington.', 'fullTimeEmployees': 221000, 'companyOfficers': [{'maxAge': 1, 'name': 'Mr. Satya  Nadella', 'age': 56, 'title': 'Chairman & CEO', 'yearBorn': 1967, 'fiscalYear': 2023, 'totalPay': 9276400, 'exercisedValue': 0, 'unexercisedValue': 0}, {'maxAge': 1, 'name': 'Mr. Bradford L. Smith LCA', 'age': 64, 'title': 'President & Vice Chairman', 'yearBorn': 1959, 'fiscalYear': 2023, 'totalPay': 3591277, 'exercisedValue': 0, 'unexercisedValue': 0}, {'maxAge': 1, 'name': 'Ms. Amy E. Hood', 'age': 51, 'title': 'Executive VP & CFO', 'yearBorn': 1972, 'fiscalYear': 2023, 'totalPay': 3452196, 'exercisedValue': 0, 'unexercisedValue': 0}, {'maxAge': 1, 'name': 'Mr. Judson B. Althoff', 'age': 49, 'title': 'Executive VP & Chief Commercial Officer', 'yearBorn': 1974, 'fiscalYear': 2023, 'totalPay': 3355797, 'exercisedValue': 0, 'unexercisedValue': 0}, {'maxAge': 1, 'name': 'Mr. Christopher David Young', 'age': 51, 'title': 'Executive Vice President of Business Development, Strategy & Ventures', 'yearBorn': 1972, 'fiscalYear': 2023, 'totalPay': 2460507, 'exercisedValue': 0, 'unexercisedValue': 0}, {'maxAge': 1, 'name': 'Ms. Alice L. Jolla', 'age': 56, 'title': 'Corporate VP & Chief Accounting Officer', 'yearBorn': 1967, 'fiscalYear': 2023, 'exercisedValue': 0, 'unexercisedValue': 0}, {'maxAge': 1, 'name': 'Mr. James Kevin Scott', 'age': 51, 'title': 'Executive VP of AI & CTO', 'yearBorn': 1972, 'fiscalYear': 2023, 'exercisedValue': 0, 'unexercisedValue': 0}, {'maxAge': 1, 'name': 'Brett  Iversen', 'title': 'Vice President of Investor Relations', 'fiscalYear': 2023, 'exercisedValue': 0, 'unexercisedValue': 0}, {'maxAge': 1, 'name': 'Mr. Hossein  Nowbar', 'title': 'Chief Legal Officer', 'fiscalYear': 2023, 'exercisedValue': 0, 'unexercisedValue': 0}, {'maxAge': 1, 'name': 'Mr. Frank X. Shaw', 'title': 'Chief Communications Officer', 'fiscalYear': 2023, 'exercisedValue': 0, 'unexercisedValue': 0}], 'auditRisk': 3, 'boardRisk': 4, 'compensationRisk': 2, 'shareHolderRightsRisk': 2, 'overallRisk': 1, 'governanceEpochDate': 1719792000, 'compensationAsOfEpochDate': 1703980800, 'irWebsite': 'http://www.microsoft.com/investor/default.aspx', 'maxAge': 86400, 'priceHint': 2, 'previousClose': 467.56, 'open': 466.55, 'dayLow': 464.46, 'dayHigh': 467.7, 'regularMarketPreviousClose': 467.56, 'regularMarketOpen': 466.55, 'regularMarketDayLow': 464.46, 'regularMarketDayHigh': 467.7, 'dividendRate': 3.0, 'dividendYield': 0.0064, 'exDividendDate': 1723680000, 'payoutRatio': 0.24780001, 'fiveYearAvgDividendYield': 0.92, 'beta': 0.894, 'trailingPE': 40.332176, 'forwardPE': 35.055637, 'volume': 12764501, 'regularMarketVolume': 12764501, 'averageVolume': 18918452, 'averageVolume10days': 16284370, 'averageDailyVolume10Day': 16284370, 'bid': 465.99, 'ask': 466.18, 'bidSize': 100, 'askSize': 100, 'marketCap': 3465240117248, 'fiftyTwoWeekLow': 309.45, 'fiftyTwoWeekHigh': 468.35, 'priceToSalesTrailing12Months': 14.646976, 'fiftyDayAverage': 428.437, 'twoHundredDayAverage': 392.818, 'trailingAnnualDividendRate': 2.93, 'trailingAnnualDividendYield': 0.006266576, 'currency': 'USD', 'enterpriseValue': 3491454255104, 'profitMargins': 0.36426997, 'floatShares': 7422123535, 'sharesOutstanding': 7432309760, 'sharesShort': 62396959, 'sharesShortPriorMonth': 43764126, 'sharesShortPreviousMonthDate': 1715731200, 'dateShortInterest': 1718323200, 'sharesPercentSharesOut': 0.0084, 'heldPercentInsiders': 0.00054000004, 'heldPercentInstitutions': 0.73635, 'shortRatio': 3.41, 'shortPercentOfFloat': 0.0084, 'impliedSharesOutstanding': 7432309760, 'bookValue': 34.058, 'priceToBook': 13.689589, 'lastFiscalYearEnd': 1688083200, 'nextFiscalYearEnd': 1719705600, 'mostRecentQuarter': 1711843200, 'earningsQuarterlyGrowth': 0.199, 'netIncomeToCommon': 86181003264, 'trailingEps': 11.56, 'forwardEps': 13.3, 'pegRatio': 2.44, 'lastSplitFactor': '2:1', 'lastSplitDate': 1045526400, 'enterpriseToRevenue': 14.758, 'enterpriseToEbitda': 27.714, '52WeekChange': 0.4023521, 'SandP52WeekChange': 0.2553556, 'lastDividendValue': 0.75, 'lastDividendDate': 1715731200, 'exchange': 'NMS', 'quoteType': 'EQUITY', 'symbol': 'MSFT', 'underlyingSymbol': 'MSFT', 'shortName': 'Microsoft Corporation', 'longName': 'Microsoft Corporation', 'firstTradeDateEpochUtc': 511108200, 'timeZoneFullName': 'America/New_York', 'timeZoneShortName': 'EDT', 'uuid': 'b004b3ec-de24-385e-b2c1-923f10d3fb62', 'messageBoardId': 'finmb_21835', 'gmtOffSetMilliseconds': -14400000, 'currentPrice': 466.24, 'targetHighPrice': 600.0, 'targetLowPrice': 436.0, 'targetMeanPrice': 488.97, 'targetMedianPrice': 480.89, 'recommendationMean': 1.7, 'recommendationKey': 'buy', 'numberOfAnalystOpinions': 46, 'totalCash': 80013000704, 'totalCashPerShare': 10.766, 'ebitda': 125981999104, 'totalDebt': 106228998144, 'quickRatio': 1.132, 'currentRatio': 1.242, 'totalRevenue': 236583993344, 'debtToEquity': 41.963, 'revenuePerShare': 31.834, 'returnOnAssets': 0.1541, 'returnOnEquity': 0.38487998, 'freeCashflow': 61997998080, 'operatingCashflow': 110122999808, 'earningsGrowth': 0.2, 'revenueGrowth': 0.17, 'grossMargins': 0.69894, 'ebitdaMargins': 0.5325, 'operatingMargins': 0.44588003, 'financialCurrency': 'USD', 'trailingPegRatio': 2.3053}\u001b[0m\u001b[32;1m\u001b[1;3mThe address of Microsoft is One Microsoft Way, Redmond, WA 98052-6399, United States.\u001b[0m\n",
      "\n",
      "\u001b[1m> Finished chain.\u001b[0m\n"
     ]
    }
   ],
   "source": [
    "from langchain_core.messages import HumanMessage\n",
    "\n",
    "resp = finance_agent_executor.invoke({\"messages\": [HumanMessage(content=\"What is address of microsoft?\")]})"
   ]
  },
  {
   "cell_type": "code",
   "execution_count": 20,
   "id": "450f15d8",
   "metadata": {},
   "outputs": [
    {
     "name": "stdout",
     "output_type": "stream",
     "text": [
      "The address of Microsoft is One Microsoft Way, Redmond, WA 98052-6399, United States.\n"
     ]
    }
   ],
   "source": [
    "print(resp[\"output\"])"
   ]
  },
  {
   "cell_type": "code",
   "execution_count": 21,
   "id": "ce89279f",
   "metadata": {},
   "outputs": [],
   "source": [
    "#finance_agent_executor.verbose = False"
   ]
  },
  {
   "cell_type": "code",
   "execution_count": 22,
   "id": "3cfed359",
   "metadata": {
    "scrolled": true
   },
   "outputs": [
    {
     "name": "stdout",
     "output_type": "stream",
     "text": [
      "\n",
      "\n",
      "\u001b[1m> Entering new AgentExecutor chain...\u001b[0m\n",
      "\u001b[32;1m\u001b[1;3m\n",
      "Invoking: `last_dividend_and_earnings_date` with `{'ticker': 'MSFT'}`\n",
      "\n",
      "\n",
      "\u001b[0m\u001b[33;1m\u001b[1;3m{'Dividend Date': datetime.date(2024, 9, 11), 'Ex-Dividend Date': datetime.date(2024, 8, 14), 'Earnings Date': [datetime.date(2024, 7, 23), datetime.date(2024, 7, 29)], 'Earnings High': 3.31, 'Earnings Low': 2.86, 'Earnings Average': 2.93, 'Revenue High': 65543000000, 'Revenue Low': 64000000000, 'Revenue Average': 64348000000}\u001b[0m\u001b[32;1m\u001b[1;3m\n",
      "Invoking: `company_information` with `{'ticker': 'MSFT'}`\n",
      "\n",
      "\n",
      "\u001b[0m\u001b[36;1m\u001b[1;3m{'address1': 'One Microsoft Way', 'city': 'Redmond', 'state': 'WA', 'zip': '98052-6399', 'country': 'United States', 'phone': '425 882 8080', 'website': 'https://www.microsoft.com', 'industry': 'Software - Infrastructure', 'industryKey': 'software-infrastructure', 'industryDisp': 'Software - Infrastructure', 'sector': 'Technology', 'sectorKey': 'technology', 'sectorDisp': 'Technology', 'longBusinessSummary': 'Microsoft Corporation develops and supports software, services, devices and solutions worldwide. The Productivity and Business Processes segment offers office, exchange, SharePoint, Microsoft Teams, office 365 Security and Compliance, Microsoft viva, and Microsoft 365 copilot; and office consumer services, such as Microsoft 365 consumer subscriptions, Office licensed on-premises, and other office services. This segment also provides LinkedIn; and dynamics business solutions, including Dynamics 365, a set of intelligent, cloud-based applications across ERP, CRM, power apps, and power automate; and on-premises ERP and CRM applications. The Intelligent Cloud segment offers server products and cloud services, such as azure and other cloud services; SQL and windows server, visual studio, system center, and related client access licenses, as well as nuance and GitHub; and enterprise services including enterprise support services, industry solutions, and nuance professional services. The More Personal Computing segment offers Windows, including windows OEM licensing and other non-volume licensing of the Windows operating system; Windows commercial comprising volume licensing of the Windows operating system, windows cloud services, and other Windows commercial offerings; patent licensing; and windows Internet of Things; and devices, such as surface, HoloLens, and PC accessories. Additionally, this segment provides gaming, which includes Xbox hardware and content, and first- and third-party content; Xbox game pass and other subscriptions, cloud gaming, advertising, third-party disc royalties, and other cloud services; and search and news advertising, which includes Bing, Microsoft News and Edge, and third-party affiliates. The company sells its products through OEMs, distributors, and resellers; and directly through digital marketplaces, online, and retail stores. The company was founded in 1975 and is headquartered in Redmond, Washington.', 'fullTimeEmployees': 221000, 'companyOfficers': [{'maxAge': 1, 'name': 'Mr. Satya  Nadella', 'age': 56, 'title': 'Chairman & CEO', 'yearBorn': 1967, 'fiscalYear': 2023, 'totalPay': 9276400, 'exercisedValue': 0, 'unexercisedValue': 0}, {'maxAge': 1, 'name': 'Mr. Bradford L. Smith LCA', 'age': 64, 'title': 'President & Vice Chairman', 'yearBorn': 1959, 'fiscalYear': 2023, 'totalPay': 3591277, 'exercisedValue': 0, 'unexercisedValue': 0}, {'maxAge': 1, 'name': 'Ms. Amy E. Hood', 'age': 51, 'title': 'Executive VP & CFO', 'yearBorn': 1972, 'fiscalYear': 2023, 'totalPay': 3452196, 'exercisedValue': 0, 'unexercisedValue': 0}, {'maxAge': 1, 'name': 'Mr. Judson B. Althoff', 'age': 49, 'title': 'Executive VP & Chief Commercial Officer', 'yearBorn': 1974, 'fiscalYear': 2023, 'totalPay': 3355797, 'exercisedValue': 0, 'unexercisedValue': 0}, {'maxAge': 1, 'name': 'Mr. Christopher David Young', 'age': 51, 'title': 'Executive Vice President of Business Development, Strategy & Ventures', 'yearBorn': 1972, 'fiscalYear': 2023, 'totalPay': 2460507, 'exercisedValue': 0, 'unexercisedValue': 0}, {'maxAge': 1, 'name': 'Ms. Alice L. Jolla', 'age': 56, 'title': 'Corporate VP & Chief Accounting Officer', 'yearBorn': 1967, 'fiscalYear': 2023, 'exercisedValue': 0, 'unexercisedValue': 0}, {'maxAge': 1, 'name': 'Mr. James Kevin Scott', 'age': 51, 'title': 'Executive VP of AI & CTO', 'yearBorn': 1972, 'fiscalYear': 2023, 'exercisedValue': 0, 'unexercisedValue': 0}, {'maxAge': 1, 'name': 'Brett  Iversen', 'title': 'Vice President of Investor Relations', 'fiscalYear': 2023, 'exercisedValue': 0, 'unexercisedValue': 0}, {'maxAge': 1, 'name': 'Mr. Hossein  Nowbar', 'title': 'Chief Legal Officer', 'fiscalYear': 2023, 'exercisedValue': 0, 'unexercisedValue': 0}, {'maxAge': 1, 'name': 'Mr. Frank X. Shaw', 'title': 'Chief Communications Officer', 'fiscalYear': 2023, 'exercisedValue': 0, 'unexercisedValue': 0}], 'auditRisk': 3, 'boardRisk': 4, 'compensationRisk': 2, 'shareHolderRightsRisk': 2, 'overallRisk': 1, 'governanceEpochDate': 1719792000, 'compensationAsOfEpochDate': 1703980800, 'irWebsite': 'http://www.microsoft.com/investor/default.aspx', 'maxAge': 86400, 'priceHint': 2, 'previousClose': 467.56, 'open': 466.55, 'dayLow': 464.46, 'dayHigh': 467.7, 'regularMarketPreviousClose': 467.56, 'regularMarketOpen': 466.55, 'regularMarketDayLow': 464.46, 'regularMarketDayHigh': 467.7, 'dividendRate': 3.0, 'dividendYield': 0.0064, 'exDividendDate': 1723680000, 'payoutRatio': 0.24780001, 'fiveYearAvgDividendYield': 0.92, 'beta': 0.894, 'trailingPE': 40.332176, 'forwardPE': 35.055637, 'volume': 12764501, 'regularMarketVolume': 12764501, 'averageVolume': 18918452, 'averageVolume10days': 16284370, 'averageDailyVolume10Day': 16284370, 'bid': 465.99, 'ask': 466.18, 'bidSize': 100, 'askSize': 100, 'marketCap': 3465240117248, 'fiftyTwoWeekLow': 309.45, 'fiftyTwoWeekHigh': 468.35, 'priceToSalesTrailing12Months': 14.646976, 'fiftyDayAverage': 428.437, 'twoHundredDayAverage': 392.818, 'trailingAnnualDividendRate': 2.93, 'trailingAnnualDividendYield': 0.006266576, 'currency': 'USD', 'enterpriseValue': 3491454255104, 'profitMargins': 0.36426997, 'floatShares': 7422123535, 'sharesOutstanding': 7432309760, 'sharesShort': 62396959, 'sharesShortPriorMonth': 43764126, 'sharesShortPreviousMonthDate': 1715731200, 'dateShortInterest': 1718323200, 'sharesPercentSharesOut': 0.0084, 'heldPercentInsiders': 0.00054000004, 'heldPercentInstitutions': 0.73635, 'shortRatio': 3.41, 'shortPercentOfFloat': 0.0084, 'impliedSharesOutstanding': 7432309760, 'bookValue': 34.058, 'priceToBook': 13.689589, 'lastFiscalYearEnd': 1688083200, 'nextFiscalYearEnd': 1719705600, 'mostRecentQuarter': 1711843200, 'earningsQuarterlyGrowth': 0.199, 'netIncomeToCommon': 86181003264, 'trailingEps': 11.56, 'forwardEps': 13.3, 'pegRatio': 2.44, 'lastSplitFactor': '2:1', 'lastSplitDate': 1045526400, 'enterpriseToRevenue': 14.758, 'enterpriseToEbitda': 27.714, '52WeekChange': 0.4023521, 'SandP52WeekChange': 0.2553556, 'lastDividendValue': 0.75, 'lastDividendDate': 1715731200, 'exchange': 'NMS', 'quoteType': 'EQUITY', 'symbol': 'MSFT', 'underlyingSymbol': 'MSFT', 'shortName': 'Microsoft Corporation', 'longName': 'Microsoft Corporation', 'firstTradeDateEpochUtc': 511108200, 'timeZoneFullName': 'America/New_York', 'timeZoneShortName': 'EDT', 'uuid': 'b004b3ec-de24-385e-b2c1-923f10d3fb62', 'messageBoardId': 'finmb_21835', 'gmtOffSetMilliseconds': -14400000, 'currentPrice': 466.24, 'targetHighPrice': 600.0, 'targetLowPrice': 436.0, 'targetMeanPrice': 488.97, 'targetMedianPrice': 480.89, 'recommendationMean': 1.7, 'recommendationKey': 'buy', 'numberOfAnalystOpinions': 46, 'totalCash': 80013000704, 'totalCashPerShare': 10.766, 'ebitda': 125981999104, 'totalDebt': 106228998144, 'quickRatio': 1.132, 'currentRatio': 1.242, 'totalRevenue': 236583993344, 'debtToEquity': 41.963, 'revenuePerShare': 31.834, 'returnOnAssets': 0.1541, 'returnOnEquity': 0.38487998, 'freeCashflow': 61997998080, 'operatingCashflow': 110122999808, 'earningsGrowth': 0.2, 'revenueGrowth': 0.17, 'grossMargins': 0.69894, 'ebitdaMargins': 0.5325, 'operatingMargins': 0.44588003, 'financialCurrency': 'USD', 'trailingPegRatio': 2.3053}\u001b[0m\u001b[32;1m\u001b[1;3mThe last close price of Microsoft (MSFT) is 467.56.\u001b[0m\n",
      "\n",
      "\u001b[1m> Finished chain.\u001b[0m\n"
     ]
    }
   ],
   "source": [
    "resp = finance_agent_executor.invoke({\"messages\": [HumanMessage(content=\"What is last close price of microsoft?\")]})"
   ]
  },
  {
   "cell_type": "code",
   "execution_count": 23,
   "id": "3faea985",
   "metadata": {},
   "outputs": [
    {
     "name": "stdout",
     "output_type": "stream",
     "text": [
      "The last close price of Microsoft (MSFT) is 467.56.\n"
     ]
    }
   ],
   "source": [
    "print(resp[\"output\"])"
   ]
  },
  {
   "cell_type": "code",
   "execution_count": 24,
   "id": "74c8865c",
   "metadata": {
    "scrolled": true
   },
   "outputs": [
    {
     "name": "stdout",
     "output_type": "stream",
     "text": [
      "\n",
      "\n",
      "\u001b[1m> Entering new AgentExecutor chain...\u001b[0m\n",
      "\u001b[32;1m\u001b[1;3m\n",
      "Invoking: `company_information` with `{'ticker': 'MSFT'}`\n",
      "\n",
      "\n",
      "\u001b[0m\u001b[36;1m\u001b[1;3m{'address1': 'One Microsoft Way', 'city': 'Redmond', 'state': 'WA', 'zip': '98052-6399', 'country': 'United States', 'phone': '425 882 8080', 'website': 'https://www.microsoft.com', 'industry': 'Software - Infrastructure', 'industryKey': 'software-infrastructure', 'industryDisp': 'Software - Infrastructure', 'sector': 'Technology', 'sectorKey': 'technology', 'sectorDisp': 'Technology', 'longBusinessSummary': 'Microsoft Corporation develops and supports software, services, devices and solutions worldwide. The Productivity and Business Processes segment offers office, exchange, SharePoint, Microsoft Teams, office 365 Security and Compliance, Microsoft viva, and Microsoft 365 copilot; and office consumer services, such as Microsoft 365 consumer subscriptions, Office licensed on-premises, and other office services. This segment also provides LinkedIn; and dynamics business solutions, including Dynamics 365, a set of intelligent, cloud-based applications across ERP, CRM, power apps, and power automate; and on-premises ERP and CRM applications. The Intelligent Cloud segment offers server products and cloud services, such as azure and other cloud services; SQL and windows server, visual studio, system center, and related client access licenses, as well as nuance and GitHub; and enterprise services including enterprise support services, industry solutions, and nuance professional services. The More Personal Computing segment offers Windows, including windows OEM licensing and other non-volume licensing of the Windows operating system; Windows commercial comprising volume licensing of the Windows operating system, windows cloud services, and other Windows commercial offerings; patent licensing; and windows Internet of Things; and devices, such as surface, HoloLens, and PC accessories. Additionally, this segment provides gaming, which includes Xbox hardware and content, and first- and third-party content; Xbox game pass and other subscriptions, cloud gaming, advertising, third-party disc royalties, and other cloud services; and search and news advertising, which includes Bing, Microsoft News and Edge, and third-party affiliates. The company sells its products through OEMs, distributors, and resellers; and directly through digital marketplaces, online, and retail stores. The company was founded in 1975 and is headquartered in Redmond, Washington.', 'fullTimeEmployees': 221000, 'companyOfficers': [{'maxAge': 1, 'name': 'Mr. Satya  Nadella', 'age': 56, 'title': 'Chairman & CEO', 'yearBorn': 1967, 'fiscalYear': 2023, 'totalPay': 9276400, 'exercisedValue': 0, 'unexercisedValue': 0}, {'maxAge': 1, 'name': 'Mr. Bradford L. Smith LCA', 'age': 64, 'title': 'President & Vice Chairman', 'yearBorn': 1959, 'fiscalYear': 2023, 'totalPay': 3591277, 'exercisedValue': 0, 'unexercisedValue': 0}, {'maxAge': 1, 'name': 'Ms. Amy E. Hood', 'age': 51, 'title': 'Executive VP & CFO', 'yearBorn': 1972, 'fiscalYear': 2023, 'totalPay': 3452196, 'exercisedValue': 0, 'unexercisedValue': 0}, {'maxAge': 1, 'name': 'Mr. Judson B. Althoff', 'age': 49, 'title': 'Executive VP & Chief Commercial Officer', 'yearBorn': 1974, 'fiscalYear': 2023, 'totalPay': 3355797, 'exercisedValue': 0, 'unexercisedValue': 0}, {'maxAge': 1, 'name': 'Mr. Christopher David Young', 'age': 51, 'title': 'Executive Vice President of Business Development, Strategy & Ventures', 'yearBorn': 1972, 'fiscalYear': 2023, 'totalPay': 2460507, 'exercisedValue': 0, 'unexercisedValue': 0}, {'maxAge': 1, 'name': 'Ms. Alice L. Jolla', 'age': 56, 'title': 'Corporate VP & Chief Accounting Officer', 'yearBorn': 1967, 'fiscalYear': 2023, 'exercisedValue': 0, 'unexercisedValue': 0}, {'maxAge': 1, 'name': 'Mr. James Kevin Scott', 'age': 51, 'title': 'Executive VP of AI & CTO', 'yearBorn': 1972, 'fiscalYear': 2023, 'exercisedValue': 0, 'unexercisedValue': 0}, {'maxAge': 1, 'name': 'Brett  Iversen', 'title': 'Vice President of Investor Relations', 'fiscalYear': 2023, 'exercisedValue': 0, 'unexercisedValue': 0}, {'maxAge': 1, 'name': 'Mr. Hossein  Nowbar', 'title': 'Chief Legal Officer', 'fiscalYear': 2023, 'exercisedValue': 0, 'unexercisedValue': 0}, {'maxAge': 1, 'name': 'Mr. Frank X. Shaw', 'title': 'Chief Communications Officer', 'fiscalYear': 2023, 'exercisedValue': 0, 'unexercisedValue': 0}], 'auditRisk': 3, 'boardRisk': 4, 'compensationRisk': 2, 'shareHolderRightsRisk': 2, 'overallRisk': 1, 'governanceEpochDate': 1719792000, 'compensationAsOfEpochDate': 1703980800, 'irWebsite': 'http://www.microsoft.com/investor/default.aspx', 'maxAge': 86400, 'priceHint': 2, 'previousClose': 467.56, 'open': 466.55, 'dayLow': 464.46, 'dayHigh': 467.7, 'regularMarketPreviousClose': 467.56, 'regularMarketOpen': 466.55, 'regularMarketDayLow': 464.46, 'regularMarketDayHigh': 467.7, 'dividendRate': 3.0, 'dividendYield': 0.0064, 'exDividendDate': 1723680000, 'payoutRatio': 0.24780001, 'fiveYearAvgDividendYield': 0.92, 'beta': 0.894, 'trailingPE': 40.332176, 'forwardPE': 35.055637, 'volume': 12764501, 'regularMarketVolume': 12764501, 'averageVolume': 18918452, 'averageVolume10days': 16284370, 'averageDailyVolume10Day': 16284370, 'bid': 465.99, 'ask': 466.18, 'bidSize': 100, 'askSize': 100, 'marketCap': 3465240117248, 'fiftyTwoWeekLow': 309.45, 'fiftyTwoWeekHigh': 468.35, 'priceToSalesTrailing12Months': 14.646976, 'fiftyDayAverage': 428.437, 'twoHundredDayAverage': 392.818, 'trailingAnnualDividendRate': 2.93, 'trailingAnnualDividendYield': 0.006266576, 'currency': 'USD', 'enterpriseValue': 3491454255104, 'profitMargins': 0.36426997, 'floatShares': 7422123535, 'sharesOutstanding': 7432309760, 'sharesShort': 62396959, 'sharesShortPriorMonth': 43764126, 'sharesShortPreviousMonthDate': 1715731200, 'dateShortInterest': 1718323200, 'sharesPercentSharesOut': 0.0084, 'heldPercentInsiders': 0.00054000004, 'heldPercentInstitutions': 0.73635, 'shortRatio': 3.41, 'shortPercentOfFloat': 0.0084, 'impliedSharesOutstanding': 7432309760, 'bookValue': 34.058, 'priceToBook': 13.689589, 'lastFiscalYearEnd': 1688083200, 'nextFiscalYearEnd': 1719705600, 'mostRecentQuarter': 1711843200, 'earningsQuarterlyGrowth': 0.199, 'netIncomeToCommon': 86181003264, 'trailingEps': 11.56, 'forwardEps': 13.3, 'pegRatio': 2.44, 'lastSplitFactor': '2:1', 'lastSplitDate': 1045526400, 'enterpriseToRevenue': 14.758, 'enterpriseToEbitda': 27.714, '52WeekChange': 0.4023521, 'SandP52WeekChange': 0.2553556, 'lastDividendValue': 0.75, 'lastDividendDate': 1715731200, 'exchange': 'NMS', 'quoteType': 'EQUITY', 'symbol': 'MSFT', 'underlyingSymbol': 'MSFT', 'shortName': 'Microsoft Corporation', 'longName': 'Microsoft Corporation', 'firstTradeDateEpochUtc': 511108200, 'timeZoneFullName': 'America/New_York', 'timeZoneShortName': 'EDT', 'uuid': 'b004b3ec-de24-385e-b2c1-923f10d3fb62', 'messageBoardId': 'finmb_21835', 'gmtOffSetMilliseconds': -14400000, 'currentPrice': 466.24, 'targetHighPrice': 600.0, 'targetLowPrice': 436.0, 'targetMeanPrice': 488.97, 'targetMedianPrice': 480.89, 'recommendationMean': 1.7, 'recommendationKey': 'buy', 'numberOfAnalystOpinions': 46, 'totalCash': 80013000704, 'totalCashPerShare': 10.766, 'ebitda': 125981999104, 'totalDebt': 106228998144, 'quickRatio': 1.132, 'currentRatio': 1.242, 'totalRevenue': 236583993344, 'debtToEquity': 41.963, 'revenuePerShare': 31.834, 'returnOnAssets': 0.1541, 'returnOnEquity': 0.38487998, 'freeCashflow': 61997998080, 'operatingCashflow': 110122999808, 'earningsGrowth': 0.2, 'revenueGrowth': 0.17, 'grossMargins': 0.69894, 'ebitdaMargins': 0.5325, 'operatingMargins': 0.44588003, 'financialCurrency': 'USD', 'trailingPegRatio': 2.3053}\u001b[0m\u001b[32;1m\u001b[1;3m\n",
      "Invoking: `last_dividend_and_earnings_date` with `{'ticker': 'MSFT'}`\n",
      "\n",
      "\n",
      "\u001b[0m\u001b[33;1m\u001b[1;3m{'Dividend Date': datetime.date(2024, 9, 11), 'Ex-Dividend Date': datetime.date(2024, 8, 14), 'Earnings Date': [datetime.date(2024, 7, 23), datetime.date(2024, 7, 29)], 'Earnings High': 3.31, 'Earnings Low': 2.86, 'Earnings Average': 2.93, 'Revenue High': 65543000000, 'Revenue Low': 64000000000, 'Revenue Average': 64348000000}\u001b[0m\u001b[32;1m\u001b[1;3m\n",
      "Invoking: `last_dividend_and_earnings_date` with `{'ticker': 'MSFT'}`\n",
      "\n",
      "\n"
     ]
    },
    {
     "name": "stdout",
     "output_type": "stream",
     "text": [
      "\u001b[0m\u001b[33;1m\u001b[1;3m{'Dividend Date': datetime.date(2024, 9, 11), 'Ex-Dividend Date': datetime.date(2024, 8, 14), 'Earnings Date': [datetime.date(2024, 7, 23), datetime.date(2024, 7, 29)], 'Earnings High': 3.31, 'Earnings Low': 2.86, 'Earnings Average': 2.93, 'Revenue High': 65543000000, 'Revenue Low': 64000000000, 'Revenue Average': 64348000000}\u001b[0m\u001b[32;1m\u001b[1;3mThe dividend yield for Microsoft stock is 0.0064.\u001b[0m\n",
      "\n",
      "\u001b[1m> Finished chain.\u001b[0m\n"
     ]
    }
   ],
   "source": [
    "resp = finance_agent_executor.invoke({\"messages\": [HumanMessage(content=\"What is dividend yield for microsoft stock?\")]})"
   ]
  },
  {
   "cell_type": "code",
   "execution_count": 25,
   "id": "5c9853c5",
   "metadata": {},
   "outputs": [
    {
     "name": "stdout",
     "output_type": "stream",
     "text": [
      "The dividend yield for Microsoft stock is 0.0064.\n"
     ]
    }
   ],
   "source": [
    "print(resp[\"output\"])"
   ]
  },
  {
   "cell_type": "code",
   "execution_count": 26,
   "id": "96e5646d",
   "metadata": {
    "scrolled": true
   },
   "outputs": [
    {
     "name": "stdout",
     "output_type": "stream",
     "text": [
      "\n",
      "\n",
      "\u001b[1m> Entering new AgentExecutor chain...\u001b[0m\n",
      "\u001b[32;1m\u001b[1;3m\n",
      "Invoking: `company_information` with `{'ticker': 'NVDA'}`\n",
      "\n",
      "\n",
      "\u001b[0m\u001b[36;1m\u001b[1;3m{'address1': '2788 San Tomas Expressway', 'city': 'Santa Clara', 'state': 'CA', 'zip': '95051', 'country': 'United States', 'phone': '408 486 2000', 'website': 'https://www.nvidia.com', 'industry': 'Semiconductors', 'industryKey': 'semiconductors', 'industryDisp': 'Semiconductors', 'sector': 'Technology', 'sectorKey': 'technology', 'sectorDisp': 'Technology', 'longBusinessSummary': \"NVIDIA Corporation provides graphics and compute and networking solutions in the United States, Taiwan, China, Hong Kong, and internationally. The Graphics segment offers GeForce GPUs for gaming and PCs, the GeForce NOW game streaming service and related infrastructure, and solutions for gaming platforms; Quadro/NVIDIA RTX GPUs for enterprise workstation graphics; virtual GPU or vGPU software for cloud-based visual and virtual computing; automotive platforms for infotainment systems; and Omniverse software for building and operating metaverse and 3D internet applications. The Compute & Networking segment comprises Data Center computing platforms and end-to-end networking platforms, including Quantum for InfiniBand and Spectrum for Ethernet; NVIDIA DRIVE automated-driving platform and automotive development agreements; Jetson robotics and other embedded platforms; NVIDIA AI Enterprise and other software; and DGX Cloud software and services. The company's products are used in gaming, professional visualization, data center, and automotive markets. It sells its products to original equipment manufacturers, original device manufacturers, system integrators and distributors, independent software vendors, cloud service providers, consumer internet companies, add-in board manufacturers, distributors, automotive manufacturers and tier-1 automotive suppliers, and other ecosystem participants. NVIDIA Corporation was incorporated in 1993 and is headquartered in Santa Clara, California.\", 'fullTimeEmployees': 29600, 'companyOfficers': [{'maxAge': 1, 'name': 'Mr. Jen-Hsun  Huang', 'age': 60, 'title': 'Co-Founder, CEO, President & Director', 'yearBorn': 1963, 'fiscalYear': 2024, 'totalPay': 7491487, 'exercisedValue': 217327152, 'unexercisedValue': 0}, {'maxAge': 1, 'name': 'Ms. Colette M. Kress', 'age': 56, 'title': 'Executive VP & CFO', 'yearBorn': 1967, 'fiscalYear': 2024, 'totalPay': 1510765, 'exercisedValue': 0, 'unexercisedValue': 0}, {'maxAge': 1, 'name': 'Ms. Debora  Shoquist', 'age': 68, 'title': 'Executive Vice President of Operations', 'yearBorn': 1955, 'fiscalYear': 2024, 'totalPay': 1371266, 'exercisedValue': 0, 'unexercisedValue': 0}, {'maxAge': 1, 'name': 'Mr. Timothy S. Teter', 'age': 56, 'title': 'Executive VP, General Counsel & Secretary', 'yearBorn': 1967, 'fiscalYear': 2024, 'totalPay': 1360939, 'exercisedValue': 0, 'unexercisedValue': 0}, {'maxAge': 1, 'name': 'Mr. Ajay K. Puri', 'age': 68, 'title': 'Executive Vice President of Worldwide Field Operations', 'yearBorn': 1955, 'fiscalYear': 2024, 'totalPay': 2295097, 'exercisedValue': 0, 'unexercisedValue': 0}, {'maxAge': 1, 'name': 'Mr. Chris A. Malachowsky', 'title': 'Co-Founder', 'fiscalYear': 2024, 'totalPay': 320000, 'exercisedValue': 0, 'unexercisedValue': 0}, {'maxAge': 1, 'name': 'Mr. Donald F. Robertson Jr.', 'age': 54, 'title': 'VP & Chief Accounting Officer', 'yearBorn': 1969, 'fiscalYear': 2024, 'exercisedValue': 0, 'unexercisedValue': 0}, {'maxAge': 1, 'name': 'Prof. William J. Dally Ph.D.', 'age': 62, 'title': 'Chief Scientist & Senior VP of Research', 'yearBorn': 1961, 'fiscalYear': 2024, 'exercisedValue': 0, 'unexercisedValue': 0}, {'maxAge': 1, 'name': 'Ms. Simona  Jankowski C.F.A., J.D.', 'title': 'Vice President of Investor Relations', 'fiscalYear': 2024, 'exercisedValue': 0, 'unexercisedValue': 0}, {'maxAge': 1, 'name': 'Ms. Mylene  Mangalindan', 'title': 'VP of Corporate Communications', 'fiscalYear': 2024, 'exercisedValue': 0, 'unexercisedValue': 0}], 'auditRisk': 7, 'boardRisk': 10, 'compensationRisk': 6, 'shareHolderRightsRisk': 6, 'overallRisk': 8, 'governanceEpochDate': 1719792000, 'compensationAsOfEpochDate': 1735603200, 'irWebsite': 'http://phx.corporate-ir.net/phoenix.zhtml?c=116466&p=irol-IRHome', 'maxAge': 86400, 'priceHint': 2, 'previousClose': 125.83, 'open': 127.53, 'dayLow': 127.04, 'dayHigh': 130.77, 'regularMarketPreviousClose': 125.83, 'regularMarketOpen': 127.53, 'regularMarketDayLow': 127.04, 'regularMarketDayHigh': 130.77, 'dividendRate': 0.04, 'dividendYield': 0.00029999999, 'exDividendDate': 1718064000, 'payoutRatio': 0.0094, 'fiveYearAvgDividendYield': 0.12, 'beta': 1.68, 'trailingPE': 74.97076, 'forwardPE': 35.21978, 'volume': 232081114, 'regularMarketVolume': 232081114, 'averageVolume': 417336049, 'averageVolume10days': 300270260, 'averageDailyVolume10Day': 300270260, 'bid': 128.09, 'ask': 128.29, 'bidSize': 100, 'askSize': 100, 'marketCap': 3153502142464, 'fiftyTwoWeekLow': 39.23, 'fiftyTwoWeekHigh': 140.76, 'priceToSalesTrailing12Months': 39.53045, 'fiftyDayAverage': 109.15686, 'twoHundredDayAverage': 73.38853, 'trailingAnnualDividendRate': 0.016, 'trailingAnnualDividendYield': 0.0001271557, 'currency': 'USD', 'enterpriseValue': 3133518905344, 'profitMargins': 0.53398, 'floatShares': 23606652000, 'sharesOutstanding': 24598300672, 'sharesShort': 315033985, 'sharesShortPriorMonth': 278905720, 'sharesShortPreviousMonthDate': 1715731200, 'dateShortInterest': 1718323200, 'sharesPercentSharesOut': 0.0128, 'heldPercentInsiders': 0.04309, 'heldPercentInstitutions': 0.67533994, 'shortRatio': 0.72, 'shortPercentOfFloat': 0.0134000005, 'impliedSharesOutstanding': 24925200384, 'bookValue': 1.998, 'priceToBook': 64.16416, 'lastFiscalYearEnd': 1706400000, 'nextFiscalYearEnd': 1738022400, 'mostRecentQuarter': 1714262400, 'earningsQuarterlyGrowth': 6.284, 'netIncomeToCommon': 42597998592, 'trailingEps': 1.71, 'forwardEps': 3.64, 'pegRatio': 1.02, 'lastSplitFactor': '10:1', 'lastSplitDate': 1717977600, 'enterpriseToRevenue': 39.28, 'enterpriseToEbitda': 63.592, '52WeekChange': 2.0232284, 'SandP52WeekChange': 0.2553556, 'lastDividendValue': 0.01, 'lastDividendDate': 1718064000, 'exchange': 'NMS', 'quoteType': 'EQUITY', 'symbol': 'NVDA', 'underlyingSymbol': 'NVDA', 'shortName': 'NVIDIA Corporation', 'longName': 'NVIDIA Corporation', 'firstTradeDateEpochUtc': 917015400, 'timeZoneFullName': 'America/New_York', 'timeZoneShortName': 'EDT', 'uuid': '7f5f6a07-b148-30f4-98a2-2caa3df2aed0', 'messageBoardId': 'finmb_32307', 'gmtOffSetMilliseconds': -14400000, 'currentPrice': 128.2, 'targetHighPrice': 200.0, 'targetLowPrice': 50.3, 'targetMeanPrice': 129.53, 'targetMedianPrice': 130.0, 'recommendationMean': 1.8, 'recommendationKey': 'buy', 'numberOfAnalystOpinions': 48, 'totalCash': 31438000128, 'totalCashPerShare': 1.278, 'ebitda': 49274998784, 'totalDebt': 11237000192, 'quickRatio': 2.877, 'currentRatio': 3.529, 'totalRevenue': 79773999104, 'debtToEquity': 22.866, 'revenuePerShare': 3.234, 'returnOnAssets': 0.49103, 'returnOnEquity': 1.15658, 'freeCashflow': 29023750144, 'operatingCashflow': 40524001280, 'earningsGrowth': 6.5, 'revenueGrowth': 2.621, 'grossMargins': 0.75286, 'ebitdaMargins': 0.61768, 'operatingMargins': 0.64925003, 'financialCurrency': 'USD', 'trailingPegRatio': 1.4686}\u001b[0m\u001b[32;1m\u001b[1;3mBased on the provided information, here are the values for ebitda, total debt, total revenue, and debt-to-equity for Nvidia stock:\n",
      "\n",
      "* EBITDA: 49,274,998,784\n",
      "* Total Debt: 11,237,000,192\n",
      "* Total Revenue: 79,773,991,040\n",
      "* Debt-to-Equity: 22.866\n",
      "\n",
      "Please note that these values are based on the provided data and may not reflect the current or up-to-date information.\u001b[0m\n",
      "\n",
      "\u001b[1m> Finished chain.\u001b[0m\n"
     ]
    }
   ],
   "source": [
    "resp = finance_agent_executor.invoke({\"messages\": [HumanMessage(content=\"What are ebitda, total debt, total revenue and debt-to-equity for Nvidia stock?\")]})"
   ]
  },
  {
   "cell_type": "code",
   "execution_count": 27,
   "id": "ccff73cd",
   "metadata": {},
   "outputs": [
    {
     "name": "stdout",
     "output_type": "stream",
     "text": [
      "Based on the provided information, here are the values for ebitda, total debt, total revenue, and debt-to-equity for Nvidia stock:\n",
      "\n",
      "* EBITDA: 49,274,998,784\n",
      "* Total Debt: 11,237,000,192\n",
      "* Total Revenue: 79,773,991,040\n",
      "* Debt-to-Equity: 22.866\n",
      "\n",
      "Please note that these values are based on the provided data and may not reflect the current or up-to-date information.\n"
     ]
    }
   ],
   "source": [
    "print(resp[\"output\"])"
   ]
  },
  {
   "cell_type": "code",
   "execution_count": 28,
   "id": "0df262c3",
   "metadata": {
    "scrolled": true
   },
   "outputs": [
    {
     "name": "stdout",
     "output_type": "stream",
     "text": [
      "\n",
      "\n",
      "\u001b[1m> Entering new AgentExecutor chain...\u001b[0m\n",
      "\u001b[32;1m\u001b[1;3m\n",
      "Invoking: `company_information` with `{'ticker': 'AAPL'}`\n",
      "\n",
      "\n",
      "\u001b[0m\u001b[36;1m\u001b[1;3m{'address1': 'One Apple Park Way', 'city': 'Cupertino', 'state': 'CA', 'zip': '95014', 'country': 'United States', 'phone': '408 996 1010', 'website': 'https://www.apple.com', 'industry': 'Consumer Electronics', 'industryKey': 'consumer-electronics', 'industryDisp': 'Consumer Electronics', 'sector': 'Technology', 'sectorKey': 'technology', 'sectorDisp': 'Technology', 'longBusinessSummary': 'Apple Inc. designs, manufactures, and markets smartphones, personal computers, tablets, wearables, and accessories worldwide. The company offers iPhone, a line of smartphones; Mac, a line of personal computers; iPad, a line of multi-purpose tablets; and wearables, home, and accessories comprising AirPods, Apple TV, Apple Watch, Beats products, and HomePod. It also provides AppleCare support and cloud services; and operates various platforms, including the App Store that allow customers to discover and download applications and digital content, such as books, music, video, games, and podcasts. In addition, the company offers various services, such as Apple Arcade, a game subscription service; Apple Fitness+, a personalized fitness service; Apple Music, which offers users a curated listening experience with on-demand radio stations; Apple News+, a subscription news and magazine service; Apple TV+, which offers exclusive original content; Apple Card, a co-branded credit card; and Apple Pay, a cashless payment service, as well as licenses its intellectual property. The company serves consumers, and small and mid-sized businesses; and the education, enterprise, and government markets. It distributes third-party applications for its products through the App Store. The company also sells its products through its retail and online stores, and direct sales force; and third-party cellular network carriers, wholesalers, retailers, and resellers. Apple Inc. was founded in 1976 and is headquartered in Cupertino, California.', 'fullTimeEmployees': 150000, 'companyOfficers': [{'maxAge': 1, 'name': 'Mr. Timothy D. Cook', 'age': 62, 'title': 'CEO & Director', 'yearBorn': 1961, 'fiscalYear': 2023, 'totalPay': 16239562, 'exercisedValue': 0, 'unexercisedValue': 0}, {'maxAge': 1, 'name': 'Mr. Luca  Maestri', 'age': 60, 'title': 'CFO & Senior VP', 'yearBorn': 1963, 'fiscalYear': 2023, 'totalPay': 4612242, 'exercisedValue': 0, 'unexercisedValue': 0}, {'maxAge': 1, 'name': 'Mr. Jeffrey E. Williams', 'age': 59, 'title': 'Chief Operating Officer', 'yearBorn': 1964, 'fiscalYear': 2023, 'totalPay': 4637585, 'exercisedValue': 0, 'unexercisedValue': 0}, {'maxAge': 1, 'name': 'Ms. Katherine L. Adams', 'age': 59, 'title': 'Senior VP, General Counsel & Secretary', 'yearBorn': 1964, 'fiscalYear': 2023, 'totalPay': 4618064, 'exercisedValue': 0, 'unexercisedValue': 0}, {'maxAge': 1, 'name': \"Ms. Deirdre  O'Brien\", 'age': 56, 'title': 'Senior Vice President of Retail', 'yearBorn': 1967, 'fiscalYear': 2023, 'totalPay': 4613369, 'exercisedValue': 0, 'unexercisedValue': 0}, {'maxAge': 1, 'name': 'Mr. Chris  Kondo', 'title': 'Senior Director of Corporate Accounting', 'fiscalYear': 2023, 'exercisedValue': 0, 'unexercisedValue': 0}, {'maxAge': 1, 'name': 'Mr. James  Wilson', 'title': 'Chief Technology Officer', 'fiscalYear': 2023, 'exercisedValue': 0, 'unexercisedValue': 0}, {'maxAge': 1, 'name': 'Suhasini  Chandramouli', 'title': 'Director of Investor Relations', 'fiscalYear': 2023, 'exercisedValue': 0, 'unexercisedValue': 0}, {'maxAge': 1, 'name': 'Mr. Greg  Joswiak', 'title': 'Senior Vice President of Worldwide Marketing', 'fiscalYear': 2023, 'exercisedValue': 0, 'unexercisedValue': 0}, {'maxAge': 1, 'name': 'Mr. Adrian  Perica', 'age': 49, 'title': 'Head of Corporate Development', 'yearBorn': 1974, 'fiscalYear': 2023, 'exercisedValue': 0, 'unexercisedValue': 0}], 'auditRisk': 6, 'boardRisk': 1, 'compensationRisk': 2, 'shareHolderRightsRisk': 1, 'overallRisk': 1, 'governanceEpochDate': 1719792000, 'compensationAsOfEpochDate': 1703980800, 'irWebsite': 'http://investor.apple.com/', 'maxAge': 86400, 'priceHint': 2, 'previousClose': 226.34, 'open': 227.09, 'dayLow': 223.25, 'dayHigh': 227.84, 'regularMarketPreviousClose': 226.34, 'regularMarketOpen': 227.09, 'regularMarketDayLow': 223.25, 'regularMarketDayHigh': 227.84, 'dividendRate': 1.0, 'dividendYield': 0.0044, 'exDividendDate': 1715299200, 'payoutRatio': 0.14930001, 'fiveYearAvgDividendYield': 0.69, 'beta': 1.244, 'trailingPE': 35.48598, 'forwardPE': 31.20822, 'volume': 58760397, 'regularMarketVolume': 58760397, 'averageVolume': 69877893, 'averageVolume10days': 61117980, 'averageDailyVolume10Day': 61117980, 'bid': 227.47, 'ask': 227.74, 'bidSize': 200, 'askSize': 200, 'marketCap': 3493414830080, 'fiftyTwoWeekLow': 164.08, 'fiftyTwoWeekHigh': 227.85, 'priceToSalesTrailing12Months': 9.154099, 'fiftyDayAverage': 196.2608, 'twoHundredDayAverage': 184.8495, 'trailingAnnualDividendRate': 0.96, 'trailingAnnualDividendYield': 0.004241407, 'currency': 'USD', 'enterpriseValue': 3530850566144, 'profitMargins': 0.26306, 'floatShares': 15309547469, 'sharesOutstanding': 15334099968, 'sharesShort': 153405579, 'sharesShortPriorMonth': 99287450, 'sharesShortPreviousMonthDate': 1715731200, 'dateShortInterest': 1718323200, 'sharesPercentSharesOut': 0.01, 'heldPercentInsiders': 0.052199997, 'heldPercentInstitutions': 0.57578, 'shortRatio': 2.29, 'shortPercentOfFloat': 0.01, 'impliedSharesOutstanding': 15334099968, 'bookValue': 4.837, 'priceToBook': 47.099445, 'lastFiscalYearEnd': 1696032000, 'nextFiscalYearEnd': 1727654400, 'mostRecentQuarter': 1711756800, 'earningsQuarterlyGrowth': -0.022, 'netIncomeToCommon': 100389003264, 'trailingEps': 6.42, 'forwardEps': 7.3, 'pegRatio': 3.2, 'lastSplitFactor': '4:1', 'lastSplitDate': 1598832000, 'enterpriseToRevenue': 9.252, 'enterpriseToEbitda': 27.238, '52WeekChange': 0.2112931, 'SandP52WeekChange': 0.2553556, 'lastDividendValue': 0.25, 'lastDividendDate': 1715299200, 'exchange': 'NMS', 'quoteType': 'EQUITY', 'symbol': 'AAPL', 'underlyingSymbol': 'AAPL', 'shortName': 'Apple Inc.', 'longName': 'Apple Inc.', 'firstTradeDateEpochUtc': 345479400, 'timeZoneFullName': 'America/New_York', 'timeZoneShortName': 'EDT', 'uuid': '8b10e4ae-9eeb-3684-921a-9ab27e4d87aa', 'messageBoardId': 'finmb_24937', 'gmtOffSetMilliseconds': -14400000, 'currentPrice': 227.82, 'targetHighPrice': 275.0, 'targetLowPrice': 164.0, 'targetMeanPrice': 213.15, 'targetMedianPrice': 210.0, 'recommendationMean': 2.0, 'recommendationKey': 'buy', 'numberOfAnalystOpinions': 37, 'totalCash': 67150000128, 'totalCashPerShare': 4.379, 'ebitda': 129629003776, 'totalDebt': 104590000128, 'quickRatio': 0.875, 'currentRatio': 1.037, 'totalRevenue': 381623009280, 'debtToEquity': 140.968, 'revenuePerShare': 24.537, 'returnOnAssets': 0.22073999, 'returnOnEquity': 1.4725, 'freeCashflow': 84726874112, 'operatingCashflow': 110563000320, 'earningsGrowth': 0.007, 'revenueGrowth': -0.043, 'grossMargins': 0.45586, 'ebitdaMargins': 0.33968, 'operatingMargins': 0.30743, 'financialCurrency': 'USD', 'trailingPegRatio': 2.3889}\u001b[0m\u001b[32;1m\u001b[1;3mBased on the tool call output, here is a summary of the key people at Apple:\n",
      "\n",
      "* CEO: Tim Cook\n",
      "* CFO: Luca Maestri\n",
      "* Chief Operating Officer: Jeffrey E. Williams\n",
      "* Senior VP, General Counsel & Secretary: Katherine L. Adams\n",
      "* Senior Vice President of Retail: Deirdre O'Brien\n",
      "* Chief Technology Officer: James Wilson\n",
      "* Director of Investor Relations: Suhasini Chandramouli\n",
      "* Senior Vice President of Worldwide Marketing: Greg Joswiak\n",
      "* Head of Corporate Development: Adrian Perica\n",
      "\n",
      "Note that this information is based on the company's latest available data and may not reflect the current leadership team.\u001b[0m\n",
      "\n",
      "\u001b[1m> Finished chain.\u001b[0m\n"
     ]
    }
   ],
   "source": [
    "resp = finance_agent_executor.invoke({\"messages\": [HumanMessage(content=\"Summarize Key people at apple\")]})"
   ]
  },
  {
   "cell_type": "code",
   "execution_count": 29,
   "id": "0bd82023",
   "metadata": {},
   "outputs": [
    {
     "name": "stdout",
     "output_type": "stream",
     "text": [
      "Based on the tool call output, here is a summary of the key people at Apple:\n",
      "\n",
      "* CEO: Tim Cook\n",
      "* CFO: Luca Maestri\n",
      "* Chief Operating Officer: Jeffrey E. Williams\n",
      "* Senior VP, General Counsel & Secretary: Katherine L. Adams\n",
      "* Senior Vice President of Retail: Deirdre O'Brien\n",
      "* Chief Technology Officer: James Wilson\n",
      "* Director of Investor Relations: Suhasini Chandramouli\n",
      "* Senior Vice President of Worldwide Marketing: Greg Joswiak\n",
      "* Head of Corporate Development: Adrian Perica\n",
      "\n",
      "Note that this information is based on the company's latest available data and may not reflect the current leadership team.\n"
     ]
    }
   ],
   "source": [
    "print(resp[\"output\"])"
   ]
  },
  {
   "cell_type": "code",
   "execution_count": 32,
   "id": "616f9732",
   "metadata": {
    "scrolled": false
   },
   "outputs": [
    {
     "name": "stdout",
     "output_type": "stream",
     "text": [
      "\n",
      "\n",
      "\u001b[1m> Entering new AgentExecutor chain...\u001b[0m\n",
      "\u001b[32;1m\u001b[1;3m\n",
      "Invoking: `last_dividend_and_earnings_date` with `{'ticker': 'AAPL'}`\n",
      "\n",
      "\n",
      "\u001b[0m\u001b[33;1m\u001b[1;3m{'Dividend Date': datetime.date(2024, 5, 15), 'Ex-Dividend Date': datetime.date(2024, 5, 9), 'Earnings Date': [datetime.date(2024, 8, 1)], 'Earnings High': 1.39, 'Earnings Low': 1.27, 'Earnings Average': 1.33, 'Revenue High': 86676000000, 'Revenue Low': 82022600000, 'Revenue Average': 83859400000}\u001b[0m\u001b[32;1m\u001b[1;3m\n",
      "Invoking: `last_dividend_and_earnings_date` with `{'ticker': 'AAPL'}`\n",
      "\n",
      "\n",
      "\u001b[0m\u001b[33;1m\u001b[1;3m{'Dividend Date': datetime.date(2024, 5, 15), 'Ex-Dividend Date': datetime.date(2024, 5, 9), 'Earnings Date': [datetime.date(2024, 8, 1)], 'Earnings High': 1.39, 'Earnings Low': 1.27, 'Earnings Average': 1.33, 'Revenue High': 86676000000, 'Revenue Low': 82022600000, 'Revenue Average': 83859400000}\u001b[0m\u001b[32;1m\u001b[1;3mThe last dividend date for Apple stock is May 15, 2024.\u001b[0m\n",
      "\n",
      "\u001b[1m> Finished chain.\u001b[0m\n"
     ]
    }
   ],
   "source": [
    "resp = finance_agent_executor.invoke({\"messages\": [HumanMessage(content=\"What was last dividend date for apple stock?\")]})"
   ]
  },
  {
   "cell_type": "code",
   "execution_count": 33,
   "id": "d8d521a2",
   "metadata": {},
   "outputs": [
    {
     "name": "stdout",
     "output_type": "stream",
     "text": [
      "The last dividend date for Apple stock is May 15, 2024.\n"
     ]
    }
   ],
   "source": [
    "print(resp[\"output\"])"
   ]
  },
  {
   "cell_type": "code",
   "execution_count": 35,
   "id": "3735ff45",
   "metadata": {
    "scrolled": true
   },
   "outputs": [
    {
     "name": "stdout",
     "output_type": "stream",
     "text": [
      "\n",
      "\n",
      "\u001b[1m> Entering new AgentExecutor chain...\u001b[0m\n",
      "\u001b[32;1m\u001b[1;3m\n",
      "Invoking: `summary_of_mutual_fund_holders` with `{'ticker': 'MSFT'}`\n",
      "\n",
      "\n",
      "\u001b[0m\u001b[36;1m\u001b[1;3m[{'Date Reported': Timestamp('2023-06-30 00:00:00'), 'Holder': 'Vanguard Total Stock Market Index Fund', 'pctHeld': 0.0312, 'Shares': 231883087, 'Value': 78965466446}, {'Date Reported': Timestamp('2023-06-30 00:00:00'), 'Holder': 'Vanguard 500 Index Fund', 'pctHeld': 0.0238, 'Shares': 177034936, 'Value': 60287477105}, {'Date Reported': Timestamp('2023-08-31 00:00:00'), 'Holder': 'Fidelity 500 Index Fund', 'pctHeld': 0.0115, 'Shares': 85181943, 'Value': 27919233637}, {'Date Reported': Timestamp('2023-09-30 00:00:00'), 'Holder': 'SPDR S&P 500 ETF Trust', 'pctHeld': 0.0112, 'Shares': 83514381, 'Value': 26369665800}, {'Date Reported': Timestamp('2023-09-30 00:00:00'), 'Holder': 'iShares Core S&P 500 ETF', 'pctHeld': 0.0095, 'Shares': 70264910, 'Value': 22186145332}, {'Date Reported': Timestamp('2023-06-30 00:00:00'), 'Holder': 'Vanguard Growth Index Fund', 'pctHeld': 0.0085, 'Shares': 63262454, 'Value': 21543396085}, {'Date Reported': Timestamp('2023-08-31 00:00:00'), 'Holder': 'Invesco ETF Tr-Invesco QQQ Tr, Series 1 ETF', 'pctHeld': 0.007900001, 'Shares': 58757680, 'Value': 19258417196}, {'Date Reported': Timestamp('2023-06-30 00:00:00'), 'Holder': 'Vanguard Institutional Index Fund-Institutional Index Fund', 'pctHeld': 0.0068, 'Shares': 50756950, 'Value': 17284771753}, {'Date Reported': Timestamp('2023-08-31 00:00:00'), 'Holder': 'Vanguard Information Technology Index Fund', 'pctHeld': 0.0053, 'Shares': 39119308, 'Value': 12821744390}, {'Date Reported': Timestamp('2023-09-30 00:00:00'), 'Holder': 'Growth Fund Of America Inc', 'pctHeld': 0.0053, 'Shares': 39310503, 'Value': 12412291322}]\u001b[0m\u001b[32;1m\u001b[1;3m\n",
      "Invoking: `summary_of_mutual_fund_holders` with `{'ticker': 'MSFT'}`\n",
      "\n",
      "\n",
      "\u001b[0m\u001b[36;1m\u001b[1;3m[{'Date Reported': Timestamp('2023-06-30 00:00:00'), 'Holder': 'Vanguard Total Stock Market Index Fund', 'pctHeld': 0.0312, 'Shares': 231883087, 'Value': 78965466446}, {'Date Reported': Timestamp('2023-06-30 00:00:00'), 'Holder': 'Vanguard 500 Index Fund', 'pctHeld': 0.0238, 'Shares': 177034936, 'Value': 60287477105}, {'Date Reported': Timestamp('2023-08-31 00:00:00'), 'Holder': 'Fidelity 500 Index Fund', 'pctHeld': 0.0115, 'Shares': 85181943, 'Value': 27919233637}, {'Date Reported': Timestamp('2023-09-30 00:00:00'), 'Holder': 'SPDR S&P 500 ETF Trust', 'pctHeld': 0.0112, 'Shares': 83514381, 'Value': 26369665800}, {'Date Reported': Timestamp('2023-09-30 00:00:00'), 'Holder': 'iShares Core S&P 500 ETF', 'pctHeld': 0.0095, 'Shares': 70264910, 'Value': 22186145332}, {'Date Reported': Timestamp('2023-06-30 00:00:00'), 'Holder': 'Vanguard Growth Index Fund', 'pctHeld': 0.0085, 'Shares': 63262454, 'Value': 21543396085}, {'Date Reported': Timestamp('2023-08-31 00:00:00'), 'Holder': 'Invesco ETF Tr-Invesco QQQ Tr, Series 1 ETF', 'pctHeld': 0.007900001, 'Shares': 58757680, 'Value': 19258417196}, {'Date Reported': Timestamp('2023-06-30 00:00:00'), 'Holder': 'Vanguard Institutional Index Fund-Institutional Index Fund', 'pctHeld': 0.0068, 'Shares': 50756950, 'Value': 17284771753}, {'Date Reported': Timestamp('2023-08-31 00:00:00'), 'Holder': 'Vanguard Information Technology Index Fund', 'pctHeld': 0.0053, 'Shares': 39119308, 'Value': 12821744390}, {'Date Reported': Timestamp('2023-09-30 00:00:00'), 'Holder': 'Growth Fund Of America Inc', 'pctHeld': 0.0053, 'Shares': 39310503, 'Value': 12412291322}]\u001b[0m\u001b[32;1m\u001b[1;3mThe top mutual fund holders of Microsoft stock are:\n",
      "\n",
      "1. Vanguard Total Stock Market Index Fund - 0.0312% of shares, 231,883,087 shares, and a value of $789,654,664.46\n",
      "2. Vanguard 500 Index Fund - 0.0238% of shares, 177,034,936 shares, and a value of $602,874,771.05\n",
      "3. Fidelity 500 Index Fund - 0.0115% of shares, 85,181,943 shares, and a value of $279,192,336.37\n",
      "4. SPDR S&P 500 ETF Trust - 0.0112% of shares, 83,514,381 shares, and a value of $263,696,658.00\n",
      "5. iShares Core S&P 500 ETF - 0.0095% of shares, 70,264,910 shares, and a value of $221,861,453.32\n",
      "\n",
      "Note: The percentages and values are based on the data provided and may not reflect the current holdings.\u001b[0m\n",
      "\n",
      "\u001b[1m> Finished chain.\u001b[0m\n"
     ]
    }
   ],
   "source": [
    "resp = finance_agent_executor.invoke({\"messages\": [HumanMessage(content=\"Top mutual fund holders of microsoft stock.\")]})"
   ]
  },
  {
   "cell_type": "code",
   "execution_count": 36,
   "id": "e7f0b42c",
   "metadata": {},
   "outputs": [
    {
     "name": "stdout",
     "output_type": "stream",
     "text": [
      "The top mutual fund holders of Microsoft stock are:\n",
      "\n",
      "1. Vanguard Total Stock Market Index Fund - 0.0312% of shares, 231,883,087 shares, and a value of $789,654,664.46\n",
      "2. Vanguard 500 Index Fund - 0.0238% of shares, 177,034,936 shares, and a value of $602,874,771.05\n",
      "3. Fidelity 500 Index Fund - 0.0115% of shares, 85,181,943 shares, and a value of $279,192,336.37\n",
      "4. SPDR S&P 500 ETF Trust - 0.0112% of shares, 83,514,381 shares, and a value of $263,696,658.00\n",
      "5. iShares Core S&P 500 ETF - 0.0095% of shares, 70,264,910 shares, and a value of $221,861,453.32\n",
      "\n",
      "Note: The percentages and values are based on the data provided and may not reflect the current holdings.\n"
     ]
    }
   ],
   "source": [
    "print(resp[\"output\"])"
   ]
  },
  {
   "cell_type": "code",
   "execution_count": 37,
   "id": "d5a1b148",
   "metadata": {
    "scrolled": true
   },
   "outputs": [
    {
     "name": "stdout",
     "output_type": "stream",
     "text": [
      "\n",
      "\n",
      "\u001b[1m> Entering new AgentExecutor chain...\u001b[0m\n",
      "\u001b[32;1m\u001b[1;3m\n",
      "Invoking: `summary_of_institutional_holders` with `{'ticker': 'MSFT'}`\n",
      "\n",
      "\n",
      "\u001b[0m\u001b[33;1m\u001b[1;3m[{'Date Reported': Timestamp('2023-06-30 00:00:00'), 'Holder': 'Vanguard Group Inc', 'pctHeld': 0.0879, 'Shares': 653247546, 'Value': 222456919314}, {'Date Reported': Timestamp('2023-06-30 00:00:00'), 'Holder': 'Blackrock Inc.', 'pctHeld': 0.0722, 'Shares': 536245027, 'Value': 182612881494}, {'Date Reported': Timestamp('2023-06-30 00:00:00'), 'Holder': 'State Street Corporation', 'pctHeld': 0.0395, 'Shares': 293614078, 'Value': 99987338122}, {'Date Reported': Timestamp('2023-06-30 00:00:00'), 'Holder': 'FMR, LLC', 'pctHeld': 0.028299998, 'Shares': 210111250, 'Value': 71551285075}, {'Date Reported': Timestamp('2023-06-30 00:00:00'), 'Holder': 'Price (T.Rowe) Associates Inc', 'pctHeld': 0.0215, 'Shares': 159904219, 'Value': 54453782738}, {'Date Reported': Timestamp('2023-06-30 00:00:00'), 'Holder': 'Geode Capital Management, LLC', 'pctHeld': 0.0199, 'Shares': 148129470, 'Value': 50444009713}, {'Date Reported': Timestamp('2023-06-30 00:00:00'), 'Holder': 'Morgan Stanley', 'pctHeld': 0.0166, 'Shares': 123498322, 'Value': 42056118573}, {'Date Reported': Timestamp('2023-06-30 00:00:00'), 'Holder': 'JP Morgan Chase & Company', 'pctHeld': 0.0152, 'Shares': 113024837, 'Value': 38489477991}, {'Date Reported': Timestamp('2022-12-31 00:00:00'), 'Holder': 'Norges Bank Investment Management', 'pctHeld': 0.0116, 'Shares': 86316926, 'Value': 20700525193}, {'Date Reported': Timestamp('2023-06-30 00:00:00'), 'Holder': 'Capital World Investors', 'pctHeld': 0.0115, 'Shares': 85507261, 'Value': 29118642660}]\u001b[0m\u001b[32;1m\u001b[1;3mBased on the output from the tool call, the top institutional holders of Microsoft stock are:\n",
      "\n",
      "1. Vanguard Group Inc - 8.79% of shares, 653,247,546 shares, and a value of $222,456,919,314\n",
      "2. Blackrock Inc. - 7.22% of shares, 536,245,027 shares, and a value of $182,612,881,494\n",
      "3. State Street Corporation - 3.95% of shares, 293,614,078 shares, and a value of $99,987,338,122\n",
      "4. FMR, LLC - 2.83% of shares, 210,111,250 shares, and a value of $71,551,285,075\n",
      "5. Price (T.Rowe) Associates Inc - 2.15% of shares, 159,904,219 shares, and a value of $54,453,782,738\n",
      "\n",
      "Note that the percentages and values are based on the data provided and may not reflect the current holdings or values.\u001b[0m\n",
      "\n",
      "\u001b[1m> Finished chain.\u001b[0m\n"
     ]
    }
   ],
   "source": [
    "resp = finance_agent_executor.invoke({\"messages\": [HumanMessage(content=\"Top institutional holders of microsoft stock.\")]})"
   ]
  },
  {
   "cell_type": "code",
   "execution_count": 38,
   "id": "83e2d30e",
   "metadata": {},
   "outputs": [
    {
     "name": "stdout",
     "output_type": "stream",
     "text": [
      "Based on the output from the tool call, the top institutional holders of Microsoft stock are:\n",
      "\n",
      "1. Vanguard Group Inc - 8.79% of shares, 653,247,546 shares, and a value of $222,456,919,314\n",
      "2. Blackrock Inc. - 7.22% of shares, 536,245,027 shares, and a value of $182,612,881,494\n",
      "3. State Street Corporation - 3.95% of shares, 293,614,078 shares, and a value of $99,987,338,122\n",
      "4. FMR, LLC - 2.83% of shares, 210,111,250 shares, and a value of $71,551,285,075\n",
      "5. Price (T.Rowe) Associates Inc - 2.15% of shares, 159,904,219 shares, and a value of $54,453,782,738\n",
      "\n",
      "Note that the percentages and values are based on the data provided and may not reflect the current holdings or values.\n"
     ]
    }
   ],
   "source": [
    "print(resp[\"output\"])"
   ]
  },
  {
   "cell_type": "code",
   "execution_count": 44,
   "id": "86fb3fc0",
   "metadata": {
    "scrolled": true
   },
   "outputs": [
    {
     "name": "stdout",
     "output_type": "stream",
     "text": [
      "\n",
      "\n",
      "\u001b[1m> Entering new AgentExecutor chain...\u001b[0m\n",
      "\u001b[32;1m\u001b[1;3m\n",
      "Invoking: `stock_grade_updrages_downgrades` with `{'ticker': 'AAPL'}`\n",
      "\n",
      "\n",
      "\u001b[0m\u001b[38;5;200m\u001b[1;3m[{'Firm': 'Rosenblatt', 'ToGrade': 'Buy', 'FromGrade': 'Neutral', 'Action': 'up'}, {'Firm': 'Erste Group', 'ToGrade': 'Buy', 'FromGrade': 'Hold', 'Action': 'up'}, {'Firm': 'DA Davidson', 'ToGrade': 'Buy', 'FromGrade': 'Neutral', 'Action': 'up'}, {'Firm': 'Itau BBA', 'ToGrade': 'Market Perform', 'FromGrade': 'Underperform', 'Action': 'up'}, {'Firm': 'Bernstein', 'ToGrade': 'Outperform', 'FromGrade': 'Market Perform', 'Action': 'up'}, {'Firm': 'DZ Bank', 'ToGrade': 'Hold', 'FromGrade': 'Buy', 'Action': 'down'}, {'Firm': 'B of A Securities', 'ToGrade': 'Buy', 'FromGrade': 'Neutral', 'Action': 'up'}, {'Firm': 'Redburn Atlantic', 'ToGrade': 'Neutral', 'FromGrade': 'Buy', 'Action': 'down'}, {'Firm': 'Piper Sandler', 'ToGrade': 'Neutral', 'FromGrade': 'Overweight', 'Action': 'down'}, {'Firm': 'Barclays', 'ToGrade': 'Underweight', 'FromGrade': 'Equal-Weight', 'Action': 'down'}]\u001b[0m\u001b[32;1m\u001b[1;3m\n",
      "Invoking: `stock_grade_updrages_downgrades` with `{'ticker': 'AAPL'}`\n",
      "\n",
      "\n",
      "\u001b[0m\u001b[38;5;200m\u001b[1;3m[{'Firm': 'Rosenblatt', 'ToGrade': 'Buy', 'FromGrade': 'Neutral', 'Action': 'up'}, {'Firm': 'Erste Group', 'ToGrade': 'Buy', 'FromGrade': 'Hold', 'Action': 'up'}, {'Firm': 'DA Davidson', 'ToGrade': 'Buy', 'FromGrade': 'Neutral', 'Action': 'up'}, {'Firm': 'Itau BBA', 'ToGrade': 'Market Perform', 'FromGrade': 'Underperform', 'Action': 'up'}, {'Firm': 'Bernstein', 'ToGrade': 'Outperform', 'FromGrade': 'Market Perform', 'Action': 'up'}, {'Firm': 'DZ Bank', 'ToGrade': 'Hold', 'FromGrade': 'Buy', 'Action': 'down'}, {'Firm': 'B of A Securities', 'ToGrade': 'Buy', 'FromGrade': 'Neutral', 'Action': 'up'}, {'Firm': 'Redburn Atlantic', 'ToGrade': 'Neutral', 'FromGrade': 'Buy', 'Action': 'down'}, {'Firm': 'Piper Sandler', 'ToGrade': 'Neutral', 'FromGrade': 'Overweight', 'Action': 'down'}, {'Firm': 'Barclays', 'ToGrade': 'Underweight', 'FromGrade': 'Equal-Weight', 'Action': 'down'}]\u001b[0m\u001b[32;1m\u001b[1;3mFirms that recently changed the grade of Apple stock are:\n",
      "\n",
      "* Rosenblatt: Upgraded from Neutral to Buy\n",
      "* Erste Group: Upgraded from Hold to Buy\n",
      "* DA Davidson: Upgraded from Neutral to Buy\n",
      "* Itau BBA: Upgraded from Underperform to Market Perform\n",
      "* Bernstein: Upgraded from Market Perform to Outperform\n",
      "* DZ Bank: Downgraded from Buy to Hold\n",
      "* Redburn Atlantic: Downgraded from Buy to Neutral\n",
      "* Piper Sandler: Downgraded from Overweight to Neutral\n",
      "* Barclays: Downgraded from Equal-Weight to Underweight\u001b[0m\n",
      "\n",
      "\u001b[1m> Finished chain.\u001b[0m\n"
     ]
    }
   ],
   "source": [
    "resp = finance_agent_executor.invoke({\"messages\": [HumanMessage(content=\"Which firms recently changed grade of apple stock? Also, return rating changes.\")]})"
   ]
  },
  {
   "cell_type": "code",
   "execution_count": 45,
   "id": "dbb9cc00",
   "metadata": {},
   "outputs": [
    {
     "name": "stdout",
     "output_type": "stream",
     "text": [
      "Firms that recently changed the grade of Apple stock are:\n",
      "\n",
      "* Rosenblatt: Upgraded from Neutral to Buy\n",
      "* Erste Group: Upgraded from Hold to Buy\n",
      "* DA Davidson: Upgraded from Neutral to Buy\n",
      "* Itau BBA: Upgraded from Underperform to Market Perform\n",
      "* Bernstein: Upgraded from Market Perform to Outperform\n",
      "* DZ Bank: Downgraded from Buy to Hold\n",
      "* Redburn Atlantic: Downgraded from Buy to Neutral\n",
      "* Piper Sandler: Downgraded from Overweight to Neutral\n",
      "* Barclays: Downgraded from Equal-Weight to Underweight\n"
     ]
    }
   ],
   "source": [
    "print(resp[\"output\"])"
   ]
  },
  {
   "cell_type": "code",
   "execution_count": 41,
   "id": "d7e65ce0",
   "metadata": {
    "scrolled": true
   },
   "outputs": [
    {
     "name": "stdout",
     "output_type": "stream",
     "text": [
      "\n",
      "\n",
      "\u001b[1m> Entering new AgentExecutor chain...\u001b[0m\n",
      "\u001b[32;1m\u001b[1;3m\n",
      "Invoking: `stock_news` with `{'ticker': 'AAPL'}`\n",
      "\n",
      "\n",
      "\u001b[0m\u001b[36;1m\u001b[1;3m[{'uuid': '21d480c4-1a74-3fd2-a7ec-696af853b5e1', 'title': 'Apple Watch to have larger face size in Series 10 models', 'publisher': 'Fox Business', 'link': 'https://finance.yahoo.com/news/apple-watch-larger-face-size-213340551.html', 'providerPublishTime': 1720474420, 'type': 'STORY', 'thumbnail': {'resolutions': [{'url': 'https://s.yimg.com/uu/api/res/1.2/uqsXuxyiXwhVi0xC2XqfRw--~B/aD03MjA7dz0xMjgwO2FwcGlkPXl0YWNoeW9u/https://media.zenfs.com/en/fox_business_text_367/db6ff7ab8aa7f34d385be406f1a2d7b8', 'width': 1280, 'height': 720, 'tag': 'original'}, {'url': 'https://s.yimg.com/uu/api/res/1.2/rquFNwGfHET2kOqmsCYQEw--~B/Zmk9ZmlsbDtoPTE0MDtweW9mZj0wO3c9MTQwO2FwcGlkPXl0YWNoeW9u/https://media.zenfs.com/en/fox_business_text_367/db6ff7ab8aa7f34d385be406f1a2d7b8', 'width': 140, 'height': 140, 'tag': '140x140'}]}, 'relatedTickers': ['AAPL']}, {'uuid': '32556746-6b5b-3e2d-a1cc-8ce92e319db3', 'title': 'The Best Costco Finds This Week', 'publisher': 'Motley Fool', 'link': 'https://finance.yahoo.com/m/32556746-6b5b-3e2d-a1cc-8ce92e319db3/the-best-costco-finds-this.html', 'providerPublishTime': 1720474217, 'type': 'STORY', 'thumbnail': {'resolutions': [{'url': 'https://s.yimg.com/uu/api/res/1.2/cC_qRIGVcI0sN8nQY0kh9Q--~B/aD01MTg7dz03OTM7YXBwaWQ9eXRhY2h5b24-/https://media.zenfs.com/en/motleyfool.com/5355e152f7947d6164c5212f5fac68f8', 'width': 793, 'height': 518, 'tag': 'original'}, {'url': 'https://s.yimg.com/uu/api/res/1.2/aIQAH3SdNkQSFk4P9B.IeQ--~B/Zmk9ZmlsbDtoPTE0MDtweW9mZj0wO3c9MTQwO2FwcGlkPXl0YWNoeW9u/https://media.zenfs.com/en/motleyfool.com/5355e152f7947d6164c5212f5fac68f8', 'width': 140, 'height': 140, 'tag': '140x140'}]}, 'relatedTickers': ['COST', 'AAPL']}, {'uuid': '5cabebca-63b6-343f-b99d-71fcae5a04f7', 'title': 'Commercial real estate, Good Buy or Goodbye: Market Domination', 'publisher': 'Yahoo Finance Video', 'link': 'https://finance.yahoo.com/video/commercial-real-estate-good-buy-212002468.html', 'providerPublishTime': 1720473602, 'type': 'VIDEO', 'thumbnail': {'resolutions': [{'url': 'https://s.yimg.com/uu/api/res/1.2/_KsUobBij0yA8NmrNiK_EA--~B/aD0zMTYyO3c9NTYxNjthcHBpZD15dGFjaHlvbg--/https://s.yimg.com/os/creatr-uploaded-images/2024-07/8d906750-3d6f-11ef-bef6-55e71a1ffa91', 'width': 5616, 'height': 3162, 'tag': 'original'}, {'url': 'https://s.yimg.com/uu/api/res/1.2/s5T3llzxNu9WhA_Sf7hq4w--~B/Zmk9ZmlsbDtoPTE0MDtweW9mZj0wO3c9MTQwO2FwcGlkPXl0YWNoeW9u/https://s.yimg.com/os/creatr-uploaded-images/2024-07/8d906750-3d6f-11ef-bef6-55e71a1ffa91', 'width': 140, 'height': 140, 'tag': '140x140'}]}, 'relatedTickers': ['INTC', 'NOW', 'BA', 'BZ=F', 'XOM', 'AMD', '^GSPC', '^DJI', 'SEDG', 'UMGNF', 'UNVGY', 'AAPL', '^IXIC', 'WMG', 'TSLA', 'TAN', 'NVDA', 'CL=F']}, {'uuid': 'e96f8e28-f168-3d15-9dfa-162b1786da64', 'title': 'Microsoft to offer Apple devices to employees in China, cites absence of Android services', 'publisher': 'Reuters', 'link': 'https://finance.yahoo.com/news/microsoft-offer-apple-devices-employees-203821062.html', 'providerPublishTime': 1720471101, 'type': 'STORY', 'thumbnail': {'resolutions': [{'url': 'https://s.yimg.com/uu/api/res/1.2/51iABhyLLt3sUGt3kcNtpg--~B/aD01MzM7dz04MDA7YXBwaWQ9eXRhY2h5b24-/https://media.zenfs.com/en/reuters-finance.com/b89ebae702b37ff6a548494fb7d63a29', 'width': 800, 'height': 533, 'tag': 'original'}, {'url': 'https://s.yimg.com/uu/api/res/1.2/r2JjIDsYzDJrBI3czbQBkA--~B/Zmk9ZmlsbDtoPTE0MDtweW9mZj0wO3c9MTQwO2FwcGlkPXl0YWNoeW9u/https://media.zenfs.com/en/reuters-finance.com/b89ebae702b37ff6a548494fb7d63a29', 'width': 140, 'height': 140, 'tag': '140x140'}]}, 'relatedTickers': ['MSFT', 'AAPL', 'GOOG']}, {'uuid': '438b04f2-160e-4793-8d78-ecdd21fc9271', 'title': \"Top Wall Street strategist explains why he's abandoning an S&P 500 target\", 'publisher': 'Yahoo Finance', 'link': 'https://finance.yahoo.com/news/top-wall-street-strategist-explains-why-hes-abandoning-an-sp-500-target-203413713.html', 'providerPublishTime': 1720470853, 'type': 'STORY', 'thumbnail': {'resolutions': [{'url': 'https://s.yimg.com/uu/api/res/1.2/morrgtVp_GUBCJOm_ycf2w--~B/aD0zNjc2O3c9NTUxNDthcHBpZD15dGFjaHlvbg--/https://s.yimg.com/os/creatr-uploaded-images/2024-06/d74ba900-2f4a-11ef-bf8e-a23c6c478f18', 'width': 5514, 'height': 3676, 'tag': 'original'}, {'url': 'https://s.yimg.com/uu/api/res/1.2/3HU2onJY6EDhEteq4ayZYg--~B/Zmk9ZmlsbDtoPTE0MDtweW9mZj0wO3c9MTQwO2FwcGlkPXl0YWNoeW9u/https://s.yimg.com/os/creatr-uploaded-images/2024-06/d74ba900-2f4a-11ef-bf8e-a23c6c478f18', 'width': 140, 'height': 140, 'tag': '140x140'}]}, 'relatedTickers': ['AAPL', 'MSFT', 'GOOG', 'NVDA', '^GSPC']}, {'uuid': '20e54db4-a9ae-3109-b030-fb94921a1401', 'title': 'Apple removes VPN apps at request of Russian authorities, say app makers', 'publisher': 'TechCrunch', 'link': 'https://finance.yahoo.com/m/20e54db4-a9ae-3109-b030-fb94921a1401/apple-removes-vpn-apps-at.html', 'providerPublishTime': 1720469220, 'type': 'STORY', 'thumbnail': {'resolutions': [{'url': 'https://s.yimg.com/uu/api/res/1.2/hox2AmazOCKwklMpX5z9DQ--~B/aD0zNjE7dz02Nzg7YXBwaWQ9eXRhY2h5b24-/https://media.zenfs.com/en/techcrunch_for_finance_733/53cc0ee922c260da66556ee849be10fb', 'width': 678, 'height': 361, 'tag': 'original'}, {'url': 'https://s.yimg.com/uu/api/res/1.2/eje9uyuBfK4Fy9ApIbk5ow--~B/Zmk9ZmlsbDtoPTE0MDtweW9mZj0wO3c9MTQwO2FwcGlkPXl0YWNoeW9u/https://media.zenfs.com/en/techcrunch_for_finance_733/53cc0ee922c260da66556ee849be10fb', 'width': 140, 'height': 140, 'tag': '140x140'}]}, 'relatedTickers': ['AAPL']}, {'uuid': 'cc011227-849d-3f2a-984f-09b6d9394488', 'title': \"Apple, AMD, Intel at top of AI 'catch-up' trade in 2H: Melius\", 'publisher': 'Yahoo Finance Video', 'link': 'https://finance.yahoo.com/video/apple-amd-intel-top-ai-195507590.html', 'providerPublishTime': 1720468507, 'type': 'VIDEO', 'thumbnail': {'resolutions': [{'url': 'https://s.yimg.com/uu/api/res/1.2/27SfjeHQvfOsY1df6ZZy3g--~B/aD0zMzkyO3c9NjAyNjthcHBpZD15dGFjaHlvbg--/https://s.yimg.com/os/creatr-uploaded-images/2024-07/b6025ec0-3d63-11ef-bfff-20c3e67256cf', 'width': 6026, 'height': 3392, 'tag': 'original'}, {'url': 'https://s.yimg.com/uu/api/res/1.2/rwHGOscBJA62IBoACPb22A--~B/Zmk9ZmlsbDtoPTE0MDtweW9mZj0wO3c9MTQwO2FwcGlkPXl0YWNoeW9u/https://s.yimg.com/os/creatr-uploaded-images/2024-07/b6025ec0-3d63-11ef-bfff-20c3e67256cf', 'width': 140, 'height': 140, 'tag': '140x140'}]}, 'relatedTickers': ['AMD', 'AAPL', 'INTC']}, {'uuid': '48f1a640-7a06-38a6-8c0a-9723f596490e', 'title': 'TSMC Stock Rides AI Wave to $1 Trillion—or Is It $825 Billion?', 'publisher': 'Barrons.com', 'link': 'https://finance.yahoo.com/m/48f1a640-7a06-38a6-8c0a-9723f596490e/tsmc-stock-rides-ai-wave-to.html', 'providerPublishTime': 1720466640, 'type': 'STORY', 'thumbnail': {'resolutions': [{'url': 'https://s.yimg.com/uu/api/res/1.2/hZMi7nhgz4uJFn5MmO7DfQ--~B/aD02NDA7dz0xMjgwO2FwcGlkPXl0YWNoeW9u/https://media.zenfs.com/en/Barrons.com/bab78940a5c259e13332934eecf26d66', 'width': 1280, 'height': 640, 'tag': 'original'}, {'url': 'https://s.yimg.com/uu/api/res/1.2/ftU0iAegWpc.HD7TjZiLxg--~B/Zmk9ZmlsbDtoPTE0MDtweW9mZj0wO3c9MTQwO2FwcGlkPXl0YWNoeW9u/https://media.zenfs.com/en/Barrons.com/bab78940a5c259e13332934eecf26d66', 'width': 140, 'height': 140, 'tag': '140x140'}]}, 'relatedTickers': ['TSM', 'NVDA', 'AAPL']}]\u001b[0m\u001b[32;1m\u001b[1;3mHere are the latest news articles discussing Apple stocks:\n",
      "\n",
      "1. \"Apple Watch to have larger face size in Series 10 models\" - Fox Business\n",
      "https://finance.yahoo.com/news/apple-watch-larger-face-size-213340551.html\n",
      "\n",
      "2. \"The Best Costco Finds This Week\" - Motley Fool\n",
      "https://finance.yahoo.com/m/32556746-6b5b-3e2d-a1cc-8ce92e319db3/the-best-costco-finds-this.html\n",
      "\n",
      "3. \"Commercial real estate, Good Buy or Goodbye: Market Domination\" - Yahoo Finance Video\n",
      "https://finance.yahoo.com/video/commercial-real-estate-good-buy-212002468.html\n",
      "\n",
      "4. \"Microsoft to offer Apple devices to employees in China, cites absence of Android services\" - Reuters\n",
      "https://finance.yahoo.com/news/microsoft-offer-apple-devices-employees-203821062.html\n",
      "\n",
      "5. \"Top Wall Street strategist explains why he's abandoning an S&P 500 target\" - Yahoo Finance\n",
      "https://finance.yahoo.com/news/top-wall-street-strategist-explains-why-hes-abandoning-an-sp-500-target-203413713.html\n",
      "\n",
      "6. \"Apple removes VPN apps at request of Russian authorities, say app makers\" - TechCrunch\n",
      "https://finance.yahoo.com/m/20e54db4-a9ae-3109-b030-fb94921a1401/apple-removes-vpn-apps-at.html\n",
      "\n",
      "7. \"Apple, AMD, Intel at top of AI 'catch-up' trade in 2H: Melius\" - Yahoo Finance Video\n",
      "https://finance.yahoo.com/video/apple-amd-intel-top-ai-195507590.html\n",
      "\n",
      "8. \"TSMC Stock Rides AI Wave to $1 Trillion—or Is It $825 Billion?\" - Barrons.com\n",
      "https://finance.yahoo.com/m/48f1a640-7a06-38a6-8c0a-9723f596490e/tsmc-stock-rides-ai-wave-to.html\u001b[0m\n",
      "\n",
      "\u001b[1m> Finished chain.\u001b[0m\n"
     ]
    }
   ],
   "source": [
    "resp = finance_agent_executor.invoke({\"messages\": [HumanMessage(content=\"Can you share latest news articles links discussing apple stocks?\")]})"
   ]
  },
  {
   "cell_type": "code",
   "execution_count": 42,
   "id": "5163ab93",
   "metadata": {},
   "outputs": [
    {
     "name": "stdout",
     "output_type": "stream",
     "text": [
      "Here are the latest news articles discussing Apple stocks:\n",
      "\n",
      "1. \"Apple Watch to have larger face size in Series 10 models\" - Fox Business\n",
      "https://finance.yahoo.com/news/apple-watch-larger-face-size-213340551.html\n",
      "\n",
      "2. \"The Best Costco Finds This Week\" - Motley Fool\n",
      "https://finance.yahoo.com/m/32556746-6b5b-3e2d-a1cc-8ce92e319db3/the-best-costco-finds-this.html\n",
      "\n",
      "3. \"Commercial real estate, Good Buy or Goodbye: Market Domination\" - Yahoo Finance Video\n",
      "https://finance.yahoo.com/video/commercial-real-estate-good-buy-212002468.html\n",
      "\n",
      "4. \"Microsoft to offer Apple devices to employees in China, cites absence of Android services\" - Reuters\n",
      "https://finance.yahoo.com/news/microsoft-offer-apple-devices-employees-203821062.html\n",
      "\n",
      "5. \"Top Wall Street strategist explains why he's abandoning an S&P 500 target\" - Yahoo Finance\n",
      "https://finance.yahoo.com/news/top-wall-street-strategist-explains-why-hes-abandoning-an-sp-500-target-203413713.html\n",
      "\n",
      "6. \"Apple removes VPN apps at request of Russian authorities, say app makers\" - TechCrunch\n",
      "https://finance.yahoo.com/m/20e54db4-a9ae-3109-b030-fb94921a1401/apple-removes-vpn-apps-at.html\n",
      "\n",
      "7. \"Apple, AMD, Intel at top of AI 'catch-up' trade in 2H: Melius\" - Yahoo Finance Video\n",
      "https://finance.yahoo.com/video/apple-amd-intel-top-ai-195507590.html\n",
      "\n",
      "8. \"TSMC Stock Rides AI Wave to $1 Trillion—or Is It $825 Billion?\" - Barrons.com\n",
      "https://finance.yahoo.com/m/48f1a640-7a06-38a6-8c0a-9723f596490e/tsmc-stock-rides-ai-wave-to.html\n"
     ]
    }
   ],
   "source": [
    "print(resp[\"output\"])"
   ]
  },
  {
   "cell_type": "markdown",
   "id": "d1ea7c65",
   "metadata": {},
   "source": [
    "## Summary\n",
    "\n",
    "In this video, I explained how to create **finance agent** using **LangChain**. We used open source LLM **llama-3** for our purpose."
   ]
  },
  {
   "cell_type": "code",
   "execution_count": null,
   "id": "73a4f6a8",
   "metadata": {},
   "outputs": [],
   "source": []
  }
 ],
 "metadata": {
  "kernelspec": {
   "display_name": "Python 3 (ipykernel)",
   "language": "python",
   "name": "python3"
  },
  "language_info": {
   "codemirror_mode": {
    "name": "ipython",
    "version": 3
   },
   "file_extension": ".py",
   "mimetype": "text/x-python",
   "name": "python",
   "nbconvert_exporter": "python",
   "pygments_lexer": "ipython3",
   "version": "3.10.9"
  }
 },
 "nbformat": 4,
 "nbformat_minor": 5
}
