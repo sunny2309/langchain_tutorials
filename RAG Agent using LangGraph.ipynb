{
 "cells": [
  {
   "cell_type": "markdown",
   "id": "b88f286e",
   "metadata": {},
   "source": [
    "# RAG Agent using LangGraph\n",
    "<img src=\"RAG.jpg\" width=500/>\n",
    "\n",
    "## Table of Contents\n",
    "\n",
    "1. **Load LLM (Groq - LlaMa-3.3 70B)**\n",
    "2. **Create Retriever Tool**\n",
    "    * **Load Data**\n",
    "    * **Insert Data in Vector Store**\n",
    "    * **Retriever Tool from Vector Store**\n",
    "4. **Bind Retriever with LLM**\n",
    "5. **Define RAG Agent**\n",
    "6. **Query Agent**"
   ]
  },
  {
   "cell_type": "code",
   "execution_count": 1,
   "id": "cc600f04",
   "metadata": {},
   "outputs": [],
   "source": [
    "from dotenv import find_dotenv, load_dotenv\n",
    "import os\n",
    "\n",
    "load_dotenv(find_dotenv())\n",
    "\n",
    "groq_api_key = os.environ[\"GROQ_API_KEY\"]"
   ]
  },
  {
   "cell_type": "markdown",
   "id": "d7bd5df3",
   "metadata": {},
   "source": [
    "## 1. Load LLM\n",
    "\n",
    "* **pip install langchain-groq**"
   ]
  },
  {
   "cell_type": "code",
   "execution_count": 2,
   "id": "3e24f902",
   "metadata": {},
   "outputs": [
    {
     "data": {
      "text/plain": [
       "ChatGroq(client=<groq.resources.chat.completions.Completions object at 0x737b05591760>, async_client=<groq.resources.chat.completions.AsyncCompletions object at 0x737b05592900>, model_name='llama-3.3-70b-versatile', model_kwargs={}, groq_api_key=SecretStr('**********'))"
      ]
     },
     "execution_count": 2,
     "metadata": {},
     "output_type": "execute_result"
    }
   ],
   "source": [
    "from langchain_groq import ChatGroq\n",
    "\n",
    "llama3 = ChatGroq(api_key=groq_api_key, model=\"llama-3.3-70b-versatile\")\n",
    "\n",
    "llama3"
   ]
  },
  {
   "cell_type": "code",
   "execution_count": 3,
   "id": "d56df120",
   "metadata": {},
   "outputs": [
    {
     "data": {
      "text/plain": [
       "AIMessage(content=\"Hello! I'm doing well, thanks for asking. I'm a large language model, so I don't have feelings or emotions like humans do, but I'm functioning properly and ready to assist you with any questions or tasks you may have. I'm Llama 3, an AI designed to provide information and help with a wide range of topics. How can I help you today?\", additional_kwargs={}, response_metadata={'token_usage': {'completion_tokens': 79, 'prompt_tokens': 47, 'total_tokens': 126, 'completion_time': 0.287272727, 'prompt_time': 0.00231775, 'queue_time': 0.057301929, 'total_time': 0.289590477}, 'model_name': 'llama-3.3-70b-versatile', 'system_fingerprint': 'fp_9a8b91ba77', 'finish_reason': 'stop', 'logprobs': None}, id='run-f4f69c5f-1eb4-4838-acc4-2cc9875127f2-0', usage_metadata={'input_tokens': 47, 'output_tokens': 79, 'total_tokens': 126})"
      ]
     },
     "execution_count": 3,
     "metadata": {},
     "output_type": "execute_result"
    }
   ],
   "source": [
    "llama3.invoke(\"Hello, How are you Llama 3.3?\")"
   ]
  },
  {
   "cell_type": "markdown",
   "id": "76850d78",
   "metadata": {},
   "source": [
    "## 2. Create Retriever Tool"
   ]
  },
  {
   "cell_type": "markdown",
   "id": "e2f16c0a",
   "metadata": {},
   "source": [
    "### 2.1 Load Data\n",
    "\n",
    "* **pip install pypdf**"
   ]
  },
  {
   "cell_type": "code",
   "execution_count": 4,
   "id": "9cd1aa04",
   "metadata": {},
   "outputs": [
    {
     "data": {
      "text/plain": [
       "80"
      ]
     },
     "execution_count": 4,
     "metadata": {},
     "output_type": "execute_result"
    }
   ],
   "source": [
    "from langchain_community.document_loaders import PyPDFLoader\n",
    "\n",
    "pdf_loader = PyPDFLoader(\"Apple-10-k-2023.pdf\")\n",
    "\n",
    "pages = pdf_loader.load()\n",
    "\n",
    "len(pages)"
   ]
  },
  {
   "cell_type": "code",
   "execution_count": 5,
   "id": "a4f7f29a",
   "metadata": {
    "scrolled": true
   },
   "outputs": [
    {
     "data": {
      "text/plain": [
       "Document(metadata={'producer': 'Wdesk Fidelity Content Translations Version 009.001.026', 'creator': 'Workiva', 'creationdate': '2023-11-02T15:17:08+00:00', 'moddate': '2023-11-02T15:17:08+00:00', 'title': '10-K 2023, 09.30.2023-2023-11-02-08-16', 'author': 'anonymous', 'source': 'Apple-10-k-2023.pdf', 'total_pages': 80, 'page': 3, 'page_label': '4'}, page_content='This Annual Report on Form 10-K (“Form 10-K”) contains forward-looking statements, within the meaning of the Private \\nSecurities Litigation Reform Act of 1995, that involve risks and uncertainties. Many of the forward-looking statements are \\nlocated in Part I, Item 1 of this Form 10-K under the heading “Business” and Part II, Item 7 of this Form 10-K under the heading \\n“Management’s Discussion and Analysis of Financial Condition and Results of Operations.” Forward-looking statements \\nprovide current expectations of future events based on certain assumptions and include any statement that does not directly \\nrelate to any historical or current fact. For example, statements in this Form 10-K regarding the potential future impact of \\nmacroeconomic conditions on the Company’s business and results of operations are forward-looking statements. Forward-\\nlooking statements can also be identified by words such as “future,” “anticipates,” “believes,” “estimates,” “expects,” \\n“intends,” “plans,” “predicts,” “will,” “would,” “could,” “can,” “may,” and similar terms. Forward-looking statements are not \\nguarantees of future performance and the Company’s actual results may differ significantly from the results discussed in the \\nforward-looking statements. Factors that might cause such differences include, but are not limited to, those discussed in Part I, \\nItem 1A of this Form 10-K under the heading “Risk Factors.” The Company assumes no obligation to revise or update any \\nforward-looking statements for any reason, except as required by law.\\nUnless otherwise stated, all information presented herein is based on the Company’s fiscal calendar, and references to \\nparticular years, quarters, months or periods refer to the Company’s fiscal years ended in September and the associated \\nquarters, months and periods of those fiscal years. Each of the terms the “Company” and “Apple” as used herein refers \\ncollectively to Apple Inc. and its wholly owned subsidiaries, unless otherwise stated.\\nPART I\\nItem 1. Business\\nCompany Background\\nThe Company designs, manufactures and markets smartphones, personal computers, tablets, wearables and accessories, and \\nsells a variety of related services. The Company’s fiscal year is the 52- or 53-week period that ends on the last Saturday of \\nSeptember.\\nProducts\\niPhone\\niPhone® is the Company’s line of smartphones based on its iOS operating system. The iPhone line includes iPhone 15 Pro, \\niPhone 15, iPhone 14, iPhone 13 and iPhone SE®.\\nMac\\nMac® is the Company’s line of personal computers based on its macOS ® operating system. The Mac line includes laptops \\nMacBook Air® and MacBook Pro®, as well as desktops iMac®, Mac mini®, Mac Studio® and Mac Pro®.\\niPad\\niPad® is the Company’s line of multipurpose tablets based on its iPadOS ® operating system. The iPad line includes iPad Pro ®, \\niPad Air®, iPad and iPad mini®.\\nWearables, Home and Accessories\\nWearables includes smartwatches and wireless headphones. The Company’s line of smartwatches, based on its watchOS ® \\noperating system, includes Apple Watch Ultra™ 2, Apple Watch ® Series 9 and Apple Watch SE ®. The Company’s line of \\nwireless headphones includes AirPods®, AirPods Pro®, AirPods Max™ and Beats ® products.\\nHome includes Apple TV ®, the Company’s media streaming and gaming device based on its tvOS ® operating system, and \\nHomePod® and HomePod mini®, high-fidelity wireless smart speakers.\\nAccessories includes Apple-branded and third-party accessories.\\nApple Inc. | 2023 Form 10-K | 1')"
      ]
     },
     "execution_count": 5,
     "metadata": {},
     "output_type": "execute_result"
    }
   ],
   "source": [
    "pages[3]"
   ]
  },
  {
   "cell_type": "code",
   "execution_count": 6,
   "id": "ca353e76",
   "metadata": {},
   "outputs": [
    {
     "name": "stdout",
     "output_type": "stream",
     "text": [
      "Total chunks: 170\n"
     ]
    }
   ],
   "source": [
    "from langchain.text_splitter import SentenceTransformersTokenTextSplitter\n",
    "\n",
    "text_splitter  = SentenceTransformersTokenTextSplitter(\n",
    "    model_name=\"sentence-transformers/all-distilroberta-v1\",\n",
    "    chunk_overlap=50,\n",
    ")\n",
    "\n",
    "split_pages = text_splitter.split_documents(pages)\n",
    "\n",
    "print(f\"Total chunks: {len(split_pages)}\")"
   ]
  },
  {
   "cell_type": "markdown",
   "id": "43e5a789",
   "metadata": {},
   "source": [
    "### 2.2 Load Docs in Vector Store\n",
    "\n",
    "* **pip install chromadb**\n",
    "* **pip install langchain-chroma**"
   ]
  },
  {
   "cell_type": "code",
   "execution_count": 7,
   "id": "fd50573f",
   "metadata": {},
   "outputs": [],
   "source": [
    "import chromadb\n",
    "from langchain_chroma import Chroma\n",
    "from chromadb.utils.embedding_functions import SentenceTransformerEmbeddingFunction\n",
    "\n",
    "### 1. Create Client\n",
    "persistent_client = chromadb.PersistentClient(path=\"./apple_10k_2023\")\n",
    "### 2. Define Embedding Function\n",
    "distil_roberta = SentenceTransformerEmbeddingFunction(model_name=\"all-distilroberta-v1\")\n",
    "### 3. Create Collection\n",
    "collection = persistent_client.create_collection(\n",
    "    name=\"apple_10k_2023\", \n",
    "    metadata={\n",
    "        \"title\": \"Apple 10k 2023\", \n",
    "        \"description\": \"This store contains embeddings of Apple 10 report for 2023.\"},\n",
    "    embedding_function=distil_roberta,                                             \n",
    "    get_or_create=True\n",
    ")\n",
    "### 4. Add Docs to Collection\n",
    "collection.add(\n",
    "    documents=[doc.page_content for doc in split_pages],\n",
    "    ids=[f\"Chunk-{idx}\" for idx, doc in enumerate(split_pages, start=1)],\n",
    "    metadatas=[doc.metadata for doc in split_pages]\n",
    ")"
   ]
  },
  {
   "cell_type": "markdown",
   "id": "e99df4a5",
   "metadata": {},
   "source": [
    "### 2.3 Retriever Tool from Vector Store"
   ]
  },
  {
   "cell_type": "code",
   "execution_count": 8,
   "id": "a55db228",
   "metadata": {},
   "outputs": [],
   "source": [
    "from langchain_core.tools import tool, StructuredTool\n",
    "\n",
    "@tool\n",
    "def retriever_tool(query):\n",
    "    \"\"\"\n",
    "    search_apple_10k_report:\n",
    "    Search and return financial information about Apple from 10k Report filed for year 2023.\n",
    "    \"\"\"\n",
    "    results = collection.query(\n",
    "        query_texts=[query,],\n",
    "        n_results=5\n",
    "    )\n",
    "    \n",
    "    return \"\\n\\n\\n\".join(results[\"documents\"][0])\n",
    "\n",
    "tools = [retriever_tool]"
   ]
  },
  {
   "cell_type": "code",
   "execution_count": 9,
   "id": "8dda1dd5",
   "metadata": {
    "scrolled": true
   },
   "outputs": [
    {
     "data": {
      "text/plain": [
       "'Apple Inc.\\nCONSOLIDATED STATEMENTS OF OPERATIONS\\n(In millions, except number of shares, which are reflected in thousands, and per-share amounts)\\nYears ended\\nSeptember 30,\\n2023\\nSeptember 24,\\n2022\\nSeptember 25,\\n2021\\nNet sales:\\n   Products $ 298,085 $ 316,199 $ 297,392 \\n   Services  85,200  78,129  68,425 \\nTotal net sales  383,285  394,328  365,817 \\nCost of sales:\\n   Products  189,282  201,471  192,266 \\n   Services  24,855  22,075  20,715 \\nTotal cost of sales  214,137  223,546  212,981 \\nGross margin  169,148  170,782  152,836 \\nOperating expenses:\\nResearch and development  29,915  26,251  21,914 \\nSelling, general and administrative  24,932  25,094  21,973 \\nTotal operating expenses  54,847  51,345  43,887 \\nOperating income  114,301  119,437  108,949 \\nOther income/(expense), net  (565)  (334)  258 \\nIncome before provision for income taxes  113,736  119,103  109,207 \\nProvision for income taxes  16,741  19,300  14,527 \\nNet income $ 96,995 $ 99,803 $ 94,680 \\nEarnings per share:\\nBasic $ 6.16 $ 6.15 $ 5.67 \\nDiluted $ 6.13 $ 6.11 $ 5.61 \\nShares used in computing earnings per share:\\nBasic  15,744,231  16,215,963  16,701,272 \\nDiluted  15,812,547  16,325,819  16,864,919 \\nSee accompanying Notes to Consolidated Financial Statements.\\nApple Inc. | 2023 Form 10-K | 28\\n\\n\\nApple Inc.\\nCONSOLIDATED STATEMENTS OF SHAREHOLDERS’ EQUITY\\n(In millions, except per-share amounts)\\nYears ended\\nSeptember 30,\\n2023\\nSeptember 24,\\n2022\\nSeptember 25,\\n2021\\nTotal shareholders’ equity, beginning balances $ 50,672 $ 63,090 $ 65,339 \\nCommon stock and additional paid-in capital:\\nBeginning balances  64,849  57,365  50,779 \\nCommon stock issued  1,346  1,175  1,105 \\nCommon stock withheld related to net share settlement of equity \\nawards  (3,521)  (2,971)  (2,627) \\nShare-based compensation  11,138  9,280  8,108 \\nEnding balances  73,812  64,849  57,365 \\nRetained earnings/(Accumulated deficit):\\nBeginning balances  (3,068)  5,562  14,966 \\nNet income  96,995  99,803  94,680 \\nDividends and dividend equivalents declared  (14,996)  (14,793)  (14,431) \\nCommon stock withheld related to net share settlement of equity \\nawards  (2,099)  (3,454)  (4,151) \\nCommon stock repurchased  (77,046)  (90,186)  (85,502) \\nEnding balances  (214)  (3,068)  5,562 \\nAccumulated other comprehensive income/(loss):\\nBeginning balances  (11,109)  163  (406) \\nOther comprehensive income/(loss)  (343)  (11,272)  569 \\nEnding balances  (11,452)  (11,109)  163 \\nTotal shareholders’ equity, ending balances $ 62,146 $ 50,672 $ 63,090 \\nDividends and dividend equivalents declared per share or RSU $ 0.94 $ 0.90 $ 0.85 \\nSee accompanying Notes to Consolidated Financial Statements.\\nApple Inc. | 2023 Form 10-K | 31\\n\\n\\n 29,615 $ 29,375 $ 26,356 \\nOperating income $ 12,066 $ 11,569 $ 9,817 \\nA reconciliation of the Company’s segment operating income to the Consolidated Statements of Operations for 2023, 2022 and \\n2021 is as follows (in millions):\\n2023 2022 2021\\nSegment operating income $ 150,888 $ 152,895 $ 137,006 \\nResearch and development expense  (29,915)  (26,251)  (21,914) \\nOther corporate expenses, net (1)  (6,672)  (7,207)  (6,143) \\nTotal operating income $ 114,301 $ 119,437 $ 108,949 \\n(1) Includes corporate marketing expenses, certain share-based compensation expenses, various nonrecurring charges, and \\nother separately managed general and administrative costs.\\nApple Inc. | 2023 Form 10-K | 47\\n\\n\\n (1,372) \\nOther  (192)  456  (300) \\nProvision for income taxes $ 16,741 $ 19,300 $ 14,527 \\nEffective tax rate  14.7%  16.2%  13.3% \\nApple Inc. | 2023 Form 10-K | 40\\n\\n\\nApple Inc.\\nCONSOLIDATED STATEMENTS OF CASH FLOWS\\n(In millions)\\nYears ended\\nSeptember 30,\\n2023\\nSeptember 24,\\n2022\\nSeptember 25,\\n2021\\nCash, cash equivalents and restricted cash, beginning balances $ 24,977 $ 35,929 $ 39,789 \\nOperating activities:\\nNet income  96,995  99,803  94,680 \\nAdjustments to reconcile net income to cash generated by operating activities:\\nDepreciation and amortization  11,519  11,104  11,284 \\nShare-based compensation expense  10,833  9,038  7,906 \\nOther  (2,227)  1,006  (4,921) \\nChanges in operating assets and liabilities:\\nAccounts receivable, net  (1,688)  (1,823)  (10,125) \\nVendor non-trade receivables  1,271  (7,520)  (3,903) \\nInventories  (1,618)  1,484  (2,642) \\nOther current and non-current assets  (5,684)  (6,499)  (8,042) \\nAccounts payable  (1,889)  9,448  12,326 \\nOther current and non-current liabilities  3,031  6,110  7,475 \\nCash generated by operating activities  110,543  122,151  104,038 \\nInvesting activities:\\nPurchases of marketable securities  (29,513)  (76,923)  (109,558) \\nProceeds from maturities of marketable securities  39,686  29,917  59,023 \\nProceeds from sales of marketable securities  5,828  37,446  47,460 \\nPayments for acquisition of property, plant and equipment  (10,959)  (10,708)  (11,085) \\nOther  (1,337)  (2,086)  (385) \\nCash generated by/(used in) investing activities  3,705  (22,354)  (14,545) \\nFinancing activities:\\nPayments for taxes'"
      ]
     },
     "execution_count": 9,
     "metadata": {},
     "output_type": "execute_result"
    }
   ],
   "source": [
    "retriever_tool.invoke(\"revenue of apple\")"
   ]
  },
  {
   "cell_type": "markdown",
   "id": "816ea3df",
   "metadata": {},
   "source": [
    "## 3. Bind with Tools"
   ]
  },
  {
   "cell_type": "code",
   "execution_count": 10,
   "id": "b7982d54",
   "metadata": {},
   "outputs": [],
   "source": [
    "llama3_with_tools = llama3.bind_tools(tools, tool_choice=\"auto\") \n",
    "# \"auto\" to automatically determine which function to call with the option to not call any function\n",
    "# \"any\" to enforce that some function is called"
   ]
  },
  {
   "cell_type": "code",
   "execution_count": 11,
   "id": "08d51938",
   "metadata": {},
   "outputs": [
    {
     "name": "stdout",
     "output_type": "stream",
     "text": [
      "It seems like you're trying to start a casual conversation. I'm here to help with any questions or provide information on a wide range of topics. How can I assist you today?\n",
      "[]\n"
     ]
    }
   ],
   "source": [
    "ai_msg = llama3_with_tools.invoke(\"Whatzzzz up?\")\n",
    "\n",
    "print(ai_msg.content)\n",
    "print(ai_msg.tool_calls)"
   ]
  },
  {
   "cell_type": "code",
   "execution_count": 12,
   "id": "e2156f5e",
   "metadata": {},
   "outputs": [
    {
     "name": "stdout",
     "output_type": "stream",
     "text": [
      "\n",
      "[{'name': 'retriever_tool', 'args': {'query': 'Revenue of Apple'}, 'id': 'call_5a5p', 'type': 'tool_call'}]\n"
     ]
    }
   ],
   "source": [
    "ai_msg = llama3_with_tools.invoke(\"Whats Revenue of Apple?\")\n",
    "\n",
    "print(ai_msg.content)\n",
    "print(ai_msg.tool_calls)"
   ]
  },
  {
   "cell_type": "markdown",
   "id": "8604604e",
   "metadata": {},
   "source": [
    "## 4. Define RAG Agent\n",
    "\n",
    "<img src=\"RAG-Agent.png\" width=300/>"
   ]
  },
  {
   "cell_type": "code",
   "execution_count": 13,
   "id": "cc097848",
   "metadata": {},
   "outputs": [],
   "source": [
    "from langgraph.graph import StateGraph, END\n",
    "from typing import TypedDict, Annotated\n",
    "import operator\n",
    "from langchain_core.messages import AnyMessage, SystemMessage, HumanMessage, ToolMessage\n",
    "\n",
    "class AgentState(TypedDict): ## Agent's current state, it can be history of messsages and other attributes you want to maintain\n",
    "    messages: Annotated[list[AnyMessage], operator.add]   ## {'messages': []}\n",
    "        \n",
    "class RAGAgent:\n",
    "    \n",
    "    def __init__(self, model, tools, system=\"You are a helpful assistant.\"):\n",
    "        self.system = system\n",
    "        self.tools = {t.name: t for t in tools}\n",
    "        self.model = model.bind_tools(tools, tool_choice=\"auto\")\n",
    "        \n",
    "        graph = StateGraph(AgentState)  ## Current Agent State will be available at each node of Graph.\n",
    "        graph.add_node(\"llama3\", self.call_llm)\n",
    "        graph.add_node(\"retriever\", self.take_action)\n",
    "        graph.add_conditional_edges(\n",
    "            \"llama3\",\n",
    "            self.exists_action,\n",
    "            {True: \"retriever\", False: END}\n",
    "        )\n",
    "        graph.add_edge(\"retriever\", \"llama3\")\n",
    "        graph.set_entry_point(\"llama3\")\n",
    "        self.graph = graph.compile()\n",
    "        \n",
    "    def exists_action(self, state: AgentState):\n",
    "        result = state['messages'][-1]\n",
    "        return len(result.tool_calls) > 0\n",
    "\n",
    "    def call_llm(self, state: AgentState):\n",
    "        messages = state['messages']\n",
    "        if self.system:\n",
    "            messages = [SystemMessage(content=self.system)] + messages\n",
    "        message = self.model.invoke(messages)\n",
    "        return {'messages': [message]} ## AIMessage\n",
    "\n",
    "    def take_action(self, state: AgentState):\n",
    "        tool_calls = state['messages'][-1].tool_calls\n",
    "        results = []\n",
    "        for t in tool_calls:\n",
    "            print(f\"Calling Tool: {t}\")\n",
    "            if not t['name'] in self.tools:  # check for bad tool name from LLM\n",
    "                print(f\"\\n Tool: {t} does not exist.\")\n",
    "                result = \"Incorrect Tool Name, Please Retry and Select tool from List of Available tools.\"  # instruct LLM to retry if bad\n",
    "            else:\n",
    "                result = self.tools[t['name']].invoke(t['args'])\n",
    "            results.append(ToolMessage(tool_call_id=t['id'], name=t['name'], content=str(result)))\n",
    "        print(\"Tools Execution Complete. Back to the model!\")\n",
    "        return {'messages': results} ## [ToolMessage, ToolMessage, ...]"
   ]
  },
  {
   "cell_type": "code",
   "execution_count": 14,
   "id": "1eba0c76",
   "metadata": {},
   "outputs": [],
   "source": [
    "prompt = \"\"\"\n",
    "You are a smart AI finance assistant. Use the retriever tool available to answer questions.\n",
    "You are allowed to make multiple calls (either together or in sequence).\n",
    "If you need to look up some information before asking a follow up question, you are allowed to do that!.\n",
    "\"\"\"\n",
    "\n",
    "agent = RAGAgent(llama3, tools, system=prompt)"
   ]
  },
  {
   "cell_type": "markdown",
   "id": "77fee3e5",
   "metadata": {},
   "source": [
    "* **pip install pygraphviz**"
   ]
  },
  {
   "cell_type": "code",
   "execution_count": 17,
   "id": "b3901423",
   "metadata": {},
   "outputs": [
    {
     "data": {
      "image/png": "[encoded data removed]",
      "text/plain": [
       "<IPython.core.display.Image object>"
      ]
     },
     "execution_count": 17,
     "metadata": {},
     "output_type": "execute_result"
    }
   ],
   "source": [
    "from IPython.display import Image\n",
    "\n",
    "Image(agent.graph.get_graph().draw_png())"
   ]
  },
  {
   "cell_type": "markdown",
   "id": "4f9de80b",
   "metadata": {},
   "source": [
    "## 5. Query Agent"
   ]
  },
  {
   "cell_type": "code",
   "execution_count": 18,
   "id": "42d3c607",
   "metadata": {},
   "outputs": [],
   "source": [
    "messages = [HumanMessage(content=\"Hello, How are you?\")]\n",
    "\n",
    "result = agent.graph.invoke({\"messages\": messages})"
   ]
  },
  {
   "cell_type": "code",
   "execution_count": 19,
   "id": "a54b57d9",
   "metadata": {},
   "outputs": [
    {
     "data": {
      "text/plain": [
       "\"I'm doing well, thank you for asking. Is there something I can help you with, or would you like to know something about Apple's financials from their 10k report for 2023?\""
      ]
     },
     "execution_count": 19,
     "metadata": {},
     "output_type": "execute_result"
    }
   ],
   "source": [
    "result['messages'][-1].content"
   ]
  },
  {
   "cell_type": "code",
   "execution_count": 20,
   "id": "8d145a89",
   "metadata": {},
   "outputs": [
    {
     "name": "stdout",
     "output_type": "stream",
     "text": [
      "Calling Tool: {'name': 'retriever_tool', 'args': {'query': 'total revenue of Apple from 10k report 2023'}, 'id': 'call_9ny7', 'type': 'tool_call'}\n",
      "Tools Execution Complete. Back to the model!\n"
     ]
    }
   ],
   "source": [
    "messages = [HumanMessage(content=\"What is total revenue of Apple?\")]\n",
    "\n",
    "result = agent.graph.invoke({\"messages\": messages})"
   ]
  },
  {
   "cell_type": "code",
   "execution_count": 21,
   "id": "1a09e54f",
   "metadata": {
    "scrolled": true
   },
   "outputs": [
    {
     "data": {
      "text/plain": [
       "{'messages': [HumanMessage(content='What is total revenue of Apple?', additional_kwargs={}, response_metadata={}),\n",
       "  AIMessage(content='', additional_kwargs={'tool_calls': [{'id': 'call_9ny7', 'function': {'arguments': '{\"query\": \"total revenue of Apple from 10k report 2023\"}', 'name': 'retriever_tool'}, 'type': 'function'}]}, response_metadata={'token_usage': {'completion_tokens': 27, 'prompt_tokens': 316, 'total_tokens': 343, 'completion_time': 0.098181818, 'prompt_time': 0.019900915, 'queue_time': 0.059314096999999996, 'total_time': 0.118082733}, 'model_name': 'llama-3.3-70b-versatile', 'system_fingerprint': 'fp_3f3b593e33', 'finish_reason': 'tool_calls', 'logprobs': None}, id='run-677237a9-f51f-4b07-9cf4-9a14168e6209-0', tool_calls=[{'name': 'retriever_tool', 'args': {'query': 'total revenue of Apple from 10k report 2023'}, 'id': 'call_9ny7', 'type': 'tool_call'}], usage_metadata={'input_tokens': 316, 'output_tokens': 27, 'total_tokens': 343}),\n",
       "  ToolMessage(content='914 \\nPercentage of total net sales  8%  7%  6% \\nSelling, general and administrative $ 24,932  (1) % $ 25,094  14 % $ 21,973 \\nPercentage of total net sales  7%  6%  6% \\nTotal operating expenses $ 54,847  7 % $ 51,345  17 % $ 43,887 \\nPercentage of total net sales  14%  13%  12% \\nResearch and Development\\nThe year-over-year growth in R&D expense in 2023 was driven primarily by increases in headcount-related expenses.\\nSelling, General and Administrative\\nSelling, general and administrative expense was relatively flat in 2023 compared to 2022.\\nApple Inc. | 2023 Form 10-K | 23\\n\\n\\nApple Inc.\\nCONSOLIDATED STATEMENTS OF OPERATIONS\\n(In millions, except number of shares, which are reflected in thousands, and per-share amounts)\\nYears ended\\nSeptember 30,\\n2023\\nSeptember 24,\\n2022\\nSeptember 25,\\n2021\\nNet sales:\\n   Products $ 298,085 $ 316,199 $ 297,392 \\n   Services  85,200  78,129  68,425 \\nTotal net sales  383,285  394,328  365,817 \\nCost of sales:\\n   Products  189,282  201,471  192,266 \\n   Services  24,855  22,075  20,715 \\nTotal cost of sales  214,137  223,546  212,981 \\nGross margin  169,148  170,782  152,836 \\nOperating expenses:\\nResearch and development  29,915  26,251  21,914 \\nSelling, general and administrative  24,932  25,094  21,973 \\nTotal operating expenses  54,847  51,345  43,887 \\nOperating income  114,301  119,437  108,949 \\nOther income/(expense), net  (565)  (334)  258 \\nIncome before provision for income taxes  113,736  119,103  109,207 \\nProvision for income taxes  16,741  19,300  14,527 \\nNet income $ 96,995 $ 99,803 $ 94,680 \\nEarnings per share:\\nBasic $ 6.16 $ 6.15 $ 5.67 \\nDiluted $ 6.13 $ 6.11 $ 5.61 \\nShares used in computing earnings per share:\\nBasic  15,744,231  16,215,963  16,701,272 \\nDiluted  15,812,547  16,325,819  16,864,919 \\nSee accompanying Notes to Consolidated Financial Statements.\\nApple Inc. | 2023 Form 10-K | 28\\n\\n\\nThe U.S. and China were the only countries that accounted for more than 10% of the Company’s net sales in 2023, 2022 and \\n2021. Net sales for 2023, 2022 and 2021 and long-lived assets as of September\\xa030, 2023  and September\\xa024, 2022  were as \\nfollows (in millions):\\n2023 2022 2021\\nNet sales:\\nU.S. $ 138,573 $ 147,859 $ 133,803 \\nChina (1)  72,559  74,200  68,366 \\nOther countries  172,153  172,269  163,648 \\nTotal net sales $ 383,285 $ 394,328 $ 365,817 \\n2023 2022\\nLong-lived assets:\\nU.S. $ 33,276 $ 31,119 \\nChina (1)  5,778  7,260 \\nOther countries  4,661  3,738 \\nTotal long-lived assets $ 43,715 $ 42,117 \\n(1) China includes Hong Kong and Taiwan.\\nApple Inc. | 2023 Form 10-K | 48\\n\\n\\n 29,615 $ 29,375 $ 26,356 \\nOperating income $ 12,066 $ 11,569 $ 9,817 \\nA reconciliation of the Company’s segment operating income to the Consolidated Statements of Operations for 2023, 2022 and \\n2021 is as follows (in millions):\\n2023 2022 2021\\nSegment operating income $ 150,888 $ 152,895 $ 137,006 \\nResearch and development expense  (29,915)  (26,251)  (21,914) \\nOther corporate expenses, net (1)  (6,672)  (7,207)  (6,143) \\nTotal operating income $ 114,301 $ 119,437 $ 108,949 \\n(1) Includes corporate marketing expenses, certain share-based compensation expenses, various nonrecurring charges, and \\nother separately managed general and administrative costs.\\nApple Inc. | 2023 Form 10-K | 47\\n\\n\\n respectively  73,812  64,849 \\nAccumulated deficit  (214)  (3,068) \\nAccumulated other comprehensive loss  (11,452)  (11,109) \\nTotal shareholders’ equity  62,146  50,672 \\nTotal liabilities and shareholders’ equity $ 352,583 $ 352,755 \\nSee accompanying Notes to Consolidated Financial Statements.\\nApple Inc. | 2023 Form 10-K | 30', name='retriever_tool', tool_call_id='call_9ny7'),\n",
       "  AIMessage(content='The total revenue of Apple is $383,285 million.', additional_kwargs={}, response_metadata={'token_usage': {'completion_tokens': 13, 'prompt_tokens': 1584, 'total_tokens': 1597, 'completion_time': 0.047272727, 'prompt_time': 0.1168101, 'queue_time': 0.058281324999999995, 'total_time': 0.164082827}, 'model_name': 'llama-3.3-70b-versatile', 'system_fingerprint': 'fp_72a5dc99ee', 'finish_reason': 'stop', 'logprobs': None}, id='run-1483e794-de78-410e-ad27-e629cfc97ff7-0', usage_metadata={'input_tokens': 1584, 'output_tokens': 13, 'total_tokens': 1597})]}"
      ]
     },
     "execution_count": 21,
     "metadata": {},
     "output_type": "execute_result"
    }
   ],
   "source": [
    "result"
   ]
  },
  {
   "cell_type": "code",
   "execution_count": 22,
   "id": "ae4cde41",
   "metadata": {},
   "outputs": [
    {
     "data": {
      "text/plain": [
       "'The total revenue of Apple is $383,285 million.'"
      ]
     },
     "execution_count": 22,
     "metadata": {},
     "output_type": "execute_result"
    }
   ],
   "source": [
    "result['messages'][-1].content"
   ]
  },
  {
   "cell_type": "code",
   "execution_count": 23,
   "id": "2f777952",
   "metadata": {},
   "outputs": [
    {
     "name": "stdout",
     "output_type": "stream",
     "text": [
      "Calling Tool: {'name': 'retriever_tool', 'args': {'query': 'Apple revenue by region 2023'}, 'id': 'call_shy3', 'type': 'tool_call'}\n",
      "Tools Execution Complete. Back to the model!\n"
     ]
    }
   ],
   "source": [
    "messages = [HumanMessage(content=\"What is revenue of Apple by regions?\")]\n",
    "\n",
    "result = agent.graph.invoke({\"messages\": messages})"
   ]
  },
  {
   "cell_type": "code",
   "execution_count": 24,
   "id": "fe95e7a2",
   "metadata": {},
   "outputs": [
    {
     "name": "stdout",
     "output_type": "stream",
     "text": [
      "The revenue of Apple by region is as follows:\n",
      "\n",
      "- U.S.: $138,573 million\n",
      "- China: $72,559 million\n",
      "- Other countries: $172,153 million\n",
      "\n",
      "Total net sales: $383,285 million.\n"
     ]
    }
   ],
   "source": [
    "print(result['messages'][-1].content)"
   ]
  },
  {
   "cell_type": "code",
   "execution_count": 25,
   "id": "b8e1bb3a",
   "metadata": {},
   "outputs": [
    {
     "name": "stdout",
     "output_type": "stream",
     "text": [
      "Calling Tool: {'name': 'retriever_tool', 'args': {'query': 'List of services provided by Apple'}, 'id': 'call_2zjc', 'type': 'tool_call'}\n",
      "Tools Execution Complete. Back to the model!\n"
     ]
    }
   ],
   "source": [
    "messages = [HumanMessage(content=\"Tell me about List of services provided by Apple.\")]\n",
    "\n",
    "result = agent.graph.invoke({\"messages\": messages})"
   ]
  },
  {
   "cell_type": "code",
   "execution_count": 26,
   "id": "b6de244c",
   "metadata": {},
   "outputs": [
    {
     "name": "stdout",
     "output_type": "stream",
     "text": [
      "The list of services provided by Apple includes:\n",
      "\n",
      "1. Advertising services\n",
      "2. AppleCare (fee-based service and support products)\n",
      "3. Cloud Services (store and keep customers' content up-to-date and available across multiple Apple devices and Windows personal computers)\n",
      "4. Digital Content (including the App Store, Apple Arcade, Apple Fitness+, Apple Music, Apple News+, and Apple TV+)\n",
      "5. Payment Services (including Apple Card and Apple Pay)\n",
      "\n",
      "These services are part of Apple's various product segments, including:\n",
      "\n",
      "1. Americas\n",
      "2. Europe\n",
      "3. Greater China\n",
      "4. Japan\n",
      "5. Rest of Asia Pacific\n",
      "\n",
      "Apple's products and services are sold to customers in various markets, including consumer, small and mid-sized business, education, enterprise, and government markets.\n"
     ]
    }
   ],
   "source": [
    "print(result['messages'][-1].content)"
   ]
  },
  {
   "cell_type": "code",
   "execution_count": 27,
   "id": "5223d6e3",
   "metadata": {},
   "outputs": [
    {
     "name": "stdout",
     "output_type": "stream",
     "text": [
      "Calling Tool: {'name': 'retriever_tool', 'args': {'query': 'legal proceedings of Apple from 10k Report filed for year 2023'}, 'id': 'call_gdmb', 'type': 'tool_call'}\n",
      "Tools Execution Complete. Back to the model!\n",
      "Calling Tool: {'name': 'retriever_tool', 'args': {'query': 'Apple legal proceedings'}, 'id': 'call_ej12', 'type': 'tool_call'}\n",
      "Tools Execution Complete. Back to the model!\n"
     ]
    }
   ],
   "source": [
    "messages = [HumanMessage(content=\"Tell me about legal proceedings of apple.\")]\n",
    "\n",
    "result = agent.graph.invoke({\"messages\": messages})"
   ]
  },
  {
   "cell_type": "code",
   "execution_count": 28,
   "id": "a7f0cd7b",
   "metadata": {},
   "outputs": [
    {
     "name": "stdout",
     "output_type": "stream",
     "text": [
      "Based on the 10-K report filed for the year 2023, Apple is involved in several legal proceedings. Two notable cases are:\n",
      "\n",
      "1. Epic Games: Epic Games filed a lawsuit against Apple alleging violations of federal and state antitrust laws and California's unfair competition law based on Apple's operation of its App Store. The District Court ruled in favor of Apple on nine out of ten counts, but found that certain provisions of Apple's App Store Review Guidelines violate California's unfair competition law. The court issued an injunction enjoining Apple from prohibiting developers from including external links that direct customers to purchasing mechanisms other than Apple's in-app purchasing. The injunction applies to apps on the U.S. storefront of the iOS and iPadOS App Store.\n",
      "\n",
      "2. Masimo: Masimo Corporation and Cercacor Laboratories, Inc. filed a complaint before the U.S. International Trade Commission (ITC) alleging infringement.\n",
      "\n",
      "These legal proceedings may have a material adverse impact on Apple's business, results of operations, and financial condition. The company is also subject to other lawsuits and investigations relating to the App Store, which may result in changes to its business practices and potentially affect its revenue and profitability.\n"
     ]
    }
   ],
   "source": [
    "print(result['messages'][-1].content)"
   ]
  },
  {
   "cell_type": "code",
   "execution_count": 29,
   "id": "a3c34318",
   "metadata": {},
   "outputs": [
    {
     "name": "stdout",
     "output_type": "stream",
     "text": [
      "Calling Tool: {'name': 'retriever_tool', 'args': {'query': 'Apple net sales by segments 2023'}, 'id': 'call_z3m9', 'type': 'tool_call'}\n",
      "Tools Execution Complete. Back to the model!\n"
     ]
    }
   ],
   "source": [
    "messages = [HumanMessage(content=\"What is net sales of Apple by segments?\")]\n",
    "\n",
    "result = agent.graph.invoke({\"messages\": messages})"
   ]
  },
  {
   "cell_type": "code",
   "execution_count": 30,
   "id": "d25eaf3e",
   "metadata": {},
   "outputs": [
    {
     "name": "stdout",
     "output_type": "stream",
     "text": [
      "Net sales of Apple by segments for the year 2023 are:\n",
      "\n",
      "- iPhone: $200,583 million\n",
      "- Mac: $29,357 million\n",
      "- iPad: $28,300 million\n",
      "- Wearables, Home and Accessories: $39,845 million\n",
      "- Services: $85,200 million\n",
      "\n",
      "Total net sales for 2023: $383,285 million\n"
     ]
    }
   ],
   "source": [
    "print(result['messages'][-1].content)"
   ]
  },
  {
   "cell_type": "code",
   "execution_count": 31,
   "id": "e63ce2c7",
   "metadata": {},
   "outputs": [
    {
     "name": "stdout",
     "output_type": "stream",
     "text": [
      "Calling Tool: {'name': 'retriever_tool', 'args': {'query': 'Apple net sales by products and services from 10k report 2023'}, 'id': 'call_75y4', 'type': 'tool_call'}\n",
      "Tools Execution Complete. Back to the model!\n"
     ]
    }
   ],
   "source": [
    "messages = [HumanMessage(content=\"What is net sales of Apple by products & services?\")]\n",
    "\n",
    "result = agent.graph.invoke({\"messages\": messages})"
   ]
  },
  {
   "cell_type": "code",
   "execution_count": 32,
   "id": "e98bbdc0",
   "metadata": {},
   "outputs": [
    {
     "name": "stdout",
     "output_type": "stream",
     "text": [
      "The net sales of Apple by products and services are as follows:\n",
      "\n",
      "- Products: $298,085 million\n",
      "  - iPhone: $200,583 million\n",
      "  - Mac: $29,357 million\n",
      "  - iPad: $28,300 million\n",
      "  - Wearables, Home and Accessories: $39,845 million\n",
      "\n",
      "- Services: $85,200 million\n",
      "\n",
      "Total net sales: $383,285 million\n"
     ]
    }
   ],
   "source": [
    "print(result['messages'][-1].content)"
   ]
  },
  {
   "cell_type": "code",
   "execution_count": 33,
   "id": "b1068065",
   "metadata": {},
   "outputs": [
    {
     "name": "stdout",
     "output_type": "stream",
     "text": [
      "Calling Tool: {'name': 'retriever_tool', 'args': {'query': 'operating expenses of Apple from 10k Report filed for year 2023'}, 'id': 'call_f53y', 'type': 'tool_call'}\n",
      "Tools Execution Complete. Back to the model!\n",
      "Calling Tool: {'name': 'retriever_tool', 'args': {'query': 'apple 10k report 2023 operating expenses'}, 'id': 'call_97j9', 'type': 'tool_call'}\n",
      "Tools Execution Complete. Back to the model!\n",
      "Calling Tool: {'name': 'retriever_tool', 'args': {'query': 'operating expenses apple 10k 2023'}, 'id': 'call_fxnh', 'type': 'tool_call'}\n",
      "Tools Execution Complete. Back to the model!\n"
     ]
    }
   ],
   "source": [
    "messages = [HumanMessage(content=\"Tell me about operating expenses of apple\")]\n",
    "\n",
    "result = agent.graph.invoke({\"messages\": messages})"
   ]
  },
  {
   "cell_type": "code",
   "execution_count": 34,
   "id": "7851d7e5",
   "metadata": {},
   "outputs": [
    {
     "name": "stdout",
     "output_type": "stream",
     "text": [
      "The total operating expenses for Apple in 2023 were $54,847 million, which is a 7% increase from 2022. The research and development expense was $29,915 million, and the selling, general, and administrative expense was $24,932 million. The total operating income was $114,301 million.\n"
     ]
    }
   ],
   "source": [
    "print(result['messages'][-1].content)"
   ]
  },
  {
   "cell_type": "code",
   "execution_count": 35,
   "id": "72f225b5",
   "metadata": {},
   "outputs": [
    {
     "name": "stdout",
     "output_type": "stream",
     "text": [
      "Calling Tool: {'name': 'retriever_tool', 'args': {'query': 'apple assets 10k report 2023'}, 'id': 'call_j2jj', 'type': 'tool_call'}\n",
      "Tools Execution Complete. Back to the model!\n",
      "Calling Tool: {'name': 'retriever_tool', 'args': {'query': 'apple total assets 10k report 2023'}, 'id': 'call_ga04', 'type': 'tool_call'}\n",
      "Tools Execution Complete. Back to the model!\n"
     ]
    }
   ],
   "source": [
    "messages = [HumanMessage(content=\"Tell me about apple's assets\")]\n",
    "\n",
    "result = agent.graph.invoke({\"messages\": messages})"
   ]
  },
  {
   "cell_type": "code",
   "execution_count": 36,
   "id": "bf0513e6",
   "metadata": {},
   "outputs": [
    {
     "name": "stdout",
     "output_type": "stream",
     "text": [
      "As of September 30, 2023, Apple's total assets were $352,583 million.\n"
     ]
    }
   ],
   "source": [
    "print(result['messages'][-1].content)"
   ]
  },
  {
   "cell_type": "code",
   "execution_count": null,
   "id": "aac46ed3",
   "metadata": {},
   "outputs": [],
   "source": []
  }
 ],
 "metadata": {
  "kernelspec": {
   "display_name": "Python 3 (ipykernel)",
   "language": "python",
   "name": "python3"
  },
  "language_info": {
   "codemirror_mode": {
    "name": "ipython",
    "version": 3
   },
   "file_extension": ".py",
   "mimetype": "text/x-python",
   "name": "python",
   "nbconvert_exporter": "python",
   "pygments_lexer": "ipython3",
   "version": "3.12.7"
  },
  "widgets": {
   "application/vnd.jupyter.widget-state+json": {
    "state": {},
    "version_major": 2,
    "version_minor": 0
   }
  }
 },
 "nbformat": 4,
 "nbformat_minor": 5
}
